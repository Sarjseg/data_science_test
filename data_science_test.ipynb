{
 "cells": [
  {
   "cell_type": "markdown",
   "id": "5693ed45",
   "metadata": {},
   "source": [
    "#### Answers to questions\n",
    "\n",
    "* Illustrate your approach and ideas, possibly using simulated data: \n",
    "    * For shrinkage rate: Simulation of data is done by selecting a distribution to associate to every asset a duration, and we define some \"true_shrinkage_rate\" to have simulate the shringake event. We add some sinthethic data based on the asset called \"route\", thinking it as the abstraction of all the spatial possibilities of the asset. To give some tendency, we multiply by 5 the shringake possibility when the asset goes for the first route. Duration and return date are always found, think in them as expected duration and expected return date. We think the data as an end to end process, when really don't care about where is goes first or last, we have some initial data based on the asset and with that information we must predict the shrinkage rate. So we think as a classification problem, as we have to predict 0 (not lost) or 1 (lost) with a probability associted to it.\n",
    "    * For pool size: We simulate only the lost data, as is the only data that affect our initial pool size. Simulating over the dates between start date and return date we increment the possibility of losing the assset by a multiplicative and incrementive factor, every days it advances, more probabilities to get lost. In addition, we multiply by that possibility to check if the model captures that non-linear feature. As we were asked the amount of assets available to IFCO at a given time, we think of the problem as a time series problem. For simplicity over calulations and show some feature engineering we tried an Elastic Net and a XGBoost regression, but take in account that in reality models like ARIMA/SARIMA with GARCH should not be descarted if stationary series are met.\n",
    "\n",
    "* Clearly mark your assumptions and reflect on risks that may impact your model: \n",
    "    * In spite of having different possibilities on duration distribution (gamma, normal and exponential) the rest of distributions applied on the shrinkage rate (the probability of losing an asset) are done by the uniform distribution, so it generates data really difficult to learn. That's why we added some trick as simulating some noise tendency in the reality.\n",
    "    * Seeming to have importance the duration, it really doesn't affect the shrinkage, as I considered is not so an asset characteristic at all. I could it include as an incrementing factor for losing probability (more duration more risk on it).\n",
    "\n",
    "* How are shrinkage rate and pool size related? The shrinkage rate directly impacts the pool size through exponential decay like this: Pool_size(t) = Pool_size(0) × (1 - shrinkage_rate)^(t/365), thinking in a yearly context.\n",
    "\n",
    "* Bonus: How would switching to scenario two change your approach, which limitations would be introduced? I dont think would affect more my approach because I will only introduce an observation probability similar to the losing probability. One big limitation is that it could shadow some characteristics of reality. For example, if I am unlucky and most of non observed data is from first route, I would cannot see the higher probability of losing and asset, so I should add some data validation checks to assure my data is well diversified and does not shadow key aspects. The latter being in fact, a change on my approach.\n"
   ]
  },
  {
   "cell_type": "markdown",
   "id": "ef459f25",
   "metadata": {},
   "source": [
    "#### Instructions \n",
    "\n",
    "To consume the material and reproduce results, just follow this notebook having in the same folder this notebook is found, the correspoding requirements."
   ]
  },
  {
   "cell_type": "markdown",
   "metadata": {},
   "source": [
    "#### Install the requirements"
   ]
  },
  {
   "cell_type": "code",
   "execution_count": 88,
   "id": "590ee5dd",
   "metadata": {},
   "outputs": [
    {
     "name": "stdout",
     "output_type": "stream",
     "text": [
      "Defaulting to user installation because normal site-packages is not writeableNote: you may need to restart the kernel to use updated packages.\n",
      "\n",
      "Requirement already satisfied: numpy==1.26.2 in c:\\users\\admin\\appdata\\roaming\\python\\python312\\site-packages (from -r requirements.txt (line 1)) (1.26.2)\n",
      "Requirement already satisfied: xgboost==2.0.3 in c:\\users\\admin\\appdata\\roaming\\python\\python312\\site-packages (from -r requirements.txt (line 2)) (2.0.3)\n",
      "Requirement already satisfied: scikit-learn==1.3.2 in c:\\users\\admin\\appdata\\roaming\\python\\python312\\site-packages (from -r requirements.txt (line 3)) (1.3.2)\n",
      "Requirement already satisfied: polars==1.4.1 in c:\\users\\admin\\appdata\\roaming\\python\\python312\\site-packages (from -r requirements.txt (line 4)) (1.4.1)\n",
      "Requirement already satisfied: plotly==5.22.0 in c:\\users\\admin\\appdata\\roaming\\python\\python312\\site-packages (from -r requirements.txt (line 5)) (5.22.0)\n",
      "Requirement already satisfied: scipy in c:\\users\\admin\\appdata\\roaming\\python\\python312\\site-packages (from xgboost==2.0.3->-r requirements.txt (line 2)) (1.11.4)\n",
      "Requirement already satisfied: joblib>=1.1.1 in c:\\users\\admin\\appdata\\roaming\\python\\python312\\site-packages (from scikit-learn==1.3.2->-r requirements.txt (line 3)) (1.3.2)\n",
      "Requirement already satisfied: threadpoolctl>=2.0.0 in c:\\users\\admin\\appdata\\roaming\\python\\python312\\site-packages (from scikit-learn==1.3.2->-r requirements.txt (line 3)) (3.2.0)\n",
      "Requirement already satisfied: tenacity>=6.2.0 in c:\\users\\admin\\appdata\\roaming\\python\\python312\\site-packages (from plotly==5.22.0->-r requirements.txt (line 5)) (8.3.0)\n",
      "Requirement already satisfied: packaging in c:\\users\\admin\\appdata\\roaming\\python\\python312\\site-packages (from plotly==5.22.0->-r requirements.txt (line 5)) (23.2)\n"
     ]
    },
    {
     "name": "stderr",
     "output_type": "stream",
     "text": [
      "\n",
      "[notice] A new release of pip is available: 25.0.1 -> 25.2\n",
      "[notice] To update, run: python.exe -m pip install --upgrade pip\n"
     ]
    }
   ],
   "source": [
    "pip install -r requirements.txt"
   ]
  },
  {
   "cell_type": "markdown",
   "id": "f88c9244",
   "metadata": {},
   "source": [
    "#### Import necessary packages"
   ]
  },
  {
   "cell_type": "code",
   "execution_count": 89,
   "id": "edfc104e",
   "metadata": {},
   "outputs": [],
   "source": [
    "import numpy as np \n",
    "import plotly.express as px\n",
    "import math as mth\n",
    "import datetime as dt\n",
    "import polars as pl\n",
    "import random\n",
    "from sklearn.preprocessing import StandardScaler\n",
    "from sklearn.metrics import accuracy_score, ConfusionMatrixDisplay\n",
    "import re\n",
    "from sklearn.linear_model import ElasticNet\n",
    "from xgboost import XGBRegressor"
   ]
  },
  {
   "cell_type": "markdown",
   "id": "bd7d4e84",
   "metadata": {},
   "source": [
    "#### Some variables definition"
   ]
  },
  {
   "cell_type": "code",
   "execution_count": 90,
   "id": "4182c50e",
   "metadata": {},
   "outputs": [],
   "source": [
    "true_mean_trip_durations = 100\n",
    "size_simulation = 10**5\n",
    "shrinkage_rate = 0.1"
   ]
  },
  {
   "cell_type": "markdown",
   "id": "7ad79b7c",
   "metadata": {},
   "source": [
    "#### Class construction for data simuation"
   ]
  },
  {
   "cell_type": "code",
   "execution_count": null,
   "id": "222c5eab",
   "metadata": {},
   "outputs": [],
   "source": [
    "class RCPDataGenerator:\n",
    "    def __init__(\n",
    "            self, true_mean_duration=100, true_shrinkage_rate=0.1, \n",
    "            initial_pool_size=10**5, reference_date = dt.datetime(2025, 1, 1),\n",
    "            distribution = 'normal', n_routes = 5\n",
    "            ):\n",
    "        self.true_mean_duration = true_mean_duration\n",
    "        self.true_shrinkage_rate = true_shrinkage_rate\n",
    "        self.initial_pool_size = initial_pool_size\n",
    "        self.reference_date = reference_date\n",
    "        self.distribution = distribution\n",
    "        self.routes = ['route'+str(x+1) for x in range(n_routes+1)]\n",
    "        self.trips_data = None\n",
    "        self.lost_data = None\n",
    "        self.pool_size_data = None\n",
    "\n",
    "    def get_duration_on_distribution(self):\n",
    "        match self.distribution:\n",
    "            case 'normal':\n",
    "                duration_tmp = np.random.normal(self.true_mean_duration, 0.1*self.true_mean_duration)\n",
    "            case 'exponential':\n",
    "                duration_tmp = np.random.exponential(self.true_mean_duration)\n",
    "            case 'normal':\n",
    "                duration_tmp = np.random.gamma(self.true_mean_duration*2, 1/2)\n",
    "            case _:\n",
    "                duration_tmp = np.random.normal(self.true_mean_duration, 0.1*self.true_mean_duration)\n",
    "        return duration_tmp\n",
    "\n",
    "        \n",
    "    def generate_trips(self):\n",
    "        trips = []\n",
    "        asset_id = 0\n",
    "        \n",
    "        for _ in range(self.initial_pool_size):\n",
    "            start_date = self.reference_date - dt.timedelta(days=np.random.randint(1, 365))\n",
    "            duration = self.get_duration_on_distribution()\n",
    "            route = random.choice(self.routes)\n",
    "            is_lost = np.random.random() < self.true_shrinkage_rate * 5 if route==self.routes[0] else np.random.random() < self.true_shrinkage_rate\n",
    "            \n",
    "            return_date = start_date + dt.timedelta(days=duration)\n",
    "            trips.append({\n",
    "                'asset_id': asset_id,\n",
    "                'start_date': start_date,\n",
    "                'duration': duration,\n",
    "                'return_date': return_date,\n",
    "                'is_lost': is_lost,\n",
    "                'route' : route\n",
    "            })\n",
    "            asset_id += 1\n",
    "            \n",
    "        \n",
    "        self.trips_data = pl.DataFrame(trips)\n",
    "        return self.trips_data\n",
    "    \n",
    "    def generate_simulation_lost_data(self):\n",
    "        tmp_data = self.trips_data.filter(\n",
    "            pl.col('is_lost')\n",
    "        ).with_columns(\n",
    "            pl.col('return_date').dt.truncate('1d')\n",
    "        ).with_columns(\n",
    "            pl.when(pl.col('is_lost')).then(pl.lit(1))\n",
    "                .otherwise(pl.lit(0)).alias('is_lost')\n",
    "        )\n",
    "\n",
    "        trips_lost_simulation = []\n",
    "        for row in tmp_data.iter_rows(named=True):\n",
    "            start_date_selected = row['start_date']\n",
    "            return_date_selected = row['return_date']\n",
    "            n_days = (return_date_selected - start_date_selected).days\n",
    "            date_list = [start_date_selected + dt.timedelta(days=x) for x in range(n_days+1)]\n",
    "            increment = 1\n",
    "            probability_l = 1/n_days\n",
    "            for date_selected in date_list:\n",
    "                is_lost = np.random.random() < probability_l*increment*5 if date_selected.month in [8, 12] else np.random.random() < probability_l*increment\n",
    "                if is_lost:\n",
    "                    trips_lost_simulation.append({\n",
    "                        'date_lost': date_selected,\n",
    "                        'is_lost': 1\n",
    "                    })\n",
    "                    break\n",
    "                increment = increment + 1\n",
    "\n",
    "        self.lost_data  = pl.DataFrame(trips_lost_simulation).group_by(\n",
    "            'date_lost'\n",
    "        ).agg(\n",
    "            losses = pl.col('is_lost').sum()\n",
    "        ).sort('date_lost').with_columns(\n",
    "            pl.col(\"losses\").cum_sum().alias(\"losses_cumsum\")\n",
    "        )\n",
    "\n",
    "        return self.lost_data \n",
    "    \n",
    "    def get_pool_size_data(self):\n",
    "\n",
    "        starting_date = self.trips_data['start_date'].min()\n",
    "        ending_date = self.trips_data['return_date'].max()\n",
    "        n_days = (ending_date - starting_date).days\n",
    "        date_list = [starting_date + dt.timedelta(days=x) for x in range(n_days+1)]\n",
    "        self.pool_size_data = pl.DataFrame({'date' :date_list}).sort('date').with_columns(\n",
    "            pool_size = pl.lit(self.initial_pool_size)\n",
    "        ).join(\n",
    "            self.lost_data, left_on = 'date', right_on = 'date_lost', how = 'left'\n",
    "        ).with_columns(\n",
    "            pl.col('losses').fill_null(0)\n",
    "        ).with_columns(\n",
    "            pl.col(\"losses\").cum_sum().alias(\"losses_cumsum\")\n",
    "        ).with_columns(\n",
    "            pool_size = pl.col('pool_size') - pl.col('losses_cumsum')\n",
    "        ).filter(\n",
    "            pl.col('date') <= self.lost_data['date_lost'].max()\n",
    "        )\n",
    "\n",
    "        return self.pool_size_data       \n"
   ]
  },
  {
   "cell_type": "markdown",
   "id": "23666c26",
   "metadata": {},
   "source": [
    "#### Data generation\n",
    "\n",
    "Here we generate some data having the variables defined before. Take in account some things:\n",
    "* We define a shrinkage rate of 10%, but we introduce noise by multiplying by 5 when the first route is meet.\n",
    "* We suppose that duration and return date are always found in data. Think of them as the expected duration and return date.\n",
    "* We define the reference date to define the start date. Understanding the start date as the date the RCP leaves\n",
    "* There's multiple possibilities on the data distribution simulation, we take the normal distribution."
   ]
  },
  {
   "cell_type": "code",
   "execution_count": null,
   "id": "956b778f",
   "metadata": {},
   "outputs": [
    {
     "name": "stdout",
     "output_type": "stream",
     "text": [
      "Shrinkage rate aproximated is 16.4%\n",
      "Mean duration approxiamted is 100.05\n"
     ]
    }
   ],
   "source": [
    "data_generator = RCPDataGenerator(\n",
    "            true_mean_duration=true_mean_trip_durations, true_shrinkage_rate=shrinkage_rate, \n",
    "            initial_pool_size=size_simulation, reference_date = dt.datetime(2025, 1, 1),\n",
    "            distribution = 'normal', n_routes = 5\n",
    "            )\n",
    "data_1 = data_generator.generate_trips()\n",
    "shrinkage_rate_aprox = data_1.filter(pl.col('is_lost')==True).shape[0]/data_1.shape[0]\n",
    "print(f'Shrinkage rate aproximated is {shrinkage_rate_aprox:0.1%}')\n",
    "print(f'Mean duration approxiamted is {data_1['duration'].mean():0.2f}')"
   ]
  },
  {
   "cell_type": "markdown",
   "id": "6b1de341",
   "metadata": {},
   "source": [
    "#### Feature engineering and modelling\n",
    "\n",
    "In the next cells we do some feature engineering on data, modelling and prediction. At the end, we comment the results."
   ]
  },
  {
   "cell_type": "code",
   "execution_count": 16,
   "id": "96760186",
   "metadata": {},
   "outputs": [],
   "source": [
    "data_for_model = data_1.with_columns(\n",
    "    year = pl.col('start_date').dt.year(),\n",
    "    month = pl.col('start_date').dt.month()\n",
    ").with_columns(\n",
    "    x_1_month = (2*mth.pi*(pl.col('month')-1)/12).cos(),\n",
    "    x_2_month = (2*mth.pi*(pl.col('month')-1)/12).sin()\n",
    ").drop('month').to_dummies('route').drop(\n",
    "    ['asset_id', 'start_date', 'return_date']\n",
    ").with_columns(\n",
    "    pl.when(pl.col('is_lost')).then(pl.lit(1))\n",
    "        .otherwise(pl.lit(0)).alias('is_lost')\n",
    ")"
   ]
  },
  {
   "cell_type": "code",
   "execution_count": 46,
   "id": "6741e5d6",
   "metadata": {},
   "outputs": [],
   "source": [
    "X_columns_binary = [x for x in data_for_model.columns if re.match('route', x)]\n",
    "X_columns_non_binary = [x for x in data_for_model.columns if not re.match('route', x) and not re.match('is_lost', x)]\n",
    "\n",
    "scaler = StandardScaler().fit(data_for_model.select(X_columns_non_binary))\n",
    "X_train_scaled = scaler.transform(data_for_model.select(X_columns_non_binary))\n",
    "X_train_scaled = np.hstack((data_for_model.select(X_columns_binary).to_numpy(), X_train_scaled))\n",
    "y_train = data_for_model['is_lost'].to_numpy()"
   ]
  },
  {
   "cell_type": "code",
   "execution_count": 47,
   "id": "c0fdede2",
   "metadata": {},
   "outputs": [
    {
     "data": {
      "text/html": [
       "<style>#sk-container-id-3 {color: black;}#sk-container-id-3 pre{padding: 0;}#sk-container-id-3 div.sk-toggleable {background-color: white;}#sk-container-id-3 label.sk-toggleable__label {cursor: pointer;display: block;width: 100%;margin-bottom: 0;padding: 0.3em;box-sizing: border-box;text-align: center;}#sk-container-id-3 label.sk-toggleable__label-arrow:before {content: \"▸\";float: left;margin-right: 0.25em;color: #696969;}#sk-container-id-3 label.sk-toggleable__label-arrow:hover:before {color: black;}#sk-container-id-3 div.sk-estimator:hover label.sk-toggleable__label-arrow:before {color: black;}#sk-container-id-3 div.sk-toggleable__content {max-height: 0;max-width: 0;overflow: hidden;text-align: left;background-color: #f0f8ff;}#sk-container-id-3 div.sk-toggleable__content pre {margin: 0.2em;color: black;border-radius: 0.25em;background-color: #f0f8ff;}#sk-container-id-3 input.sk-toggleable__control:checked~div.sk-toggleable__content {max-height: 200px;max-width: 100%;overflow: auto;}#sk-container-id-3 input.sk-toggleable__control:checked~label.sk-toggleable__label-arrow:before {content: \"▾\";}#sk-container-id-3 div.sk-estimator input.sk-toggleable__control:checked~label.sk-toggleable__label {background-color: #d4ebff;}#sk-container-id-3 div.sk-label input.sk-toggleable__control:checked~label.sk-toggleable__label {background-color: #d4ebff;}#sk-container-id-3 input.sk-hidden--visually {border: 0;clip: rect(1px 1px 1px 1px);clip: rect(1px, 1px, 1px, 1px);height: 1px;margin: -1px;overflow: hidden;padding: 0;position: absolute;width: 1px;}#sk-container-id-3 div.sk-estimator {font-family: monospace;background-color: #f0f8ff;border: 1px dotted black;border-radius: 0.25em;box-sizing: border-box;margin-bottom: 0.5em;}#sk-container-id-3 div.sk-estimator:hover {background-color: #d4ebff;}#sk-container-id-3 div.sk-parallel-item::after {content: \"\";width: 100%;border-bottom: 1px solid gray;flex-grow: 1;}#sk-container-id-3 div.sk-label:hover label.sk-toggleable__label {background-color: #d4ebff;}#sk-container-id-3 div.sk-serial::before {content: \"\";position: absolute;border-left: 1px solid gray;box-sizing: border-box;top: 0;bottom: 0;left: 50%;z-index: 0;}#sk-container-id-3 div.sk-serial {display: flex;flex-direction: column;align-items: center;background-color: white;padding-right: 0.2em;padding-left: 0.2em;position: relative;}#sk-container-id-3 div.sk-item {position: relative;z-index: 1;}#sk-container-id-3 div.sk-parallel {display: flex;align-items: stretch;justify-content: center;background-color: white;position: relative;}#sk-container-id-3 div.sk-item::before, #sk-container-id-3 div.sk-parallel-item::before {content: \"\";position: absolute;border-left: 1px solid gray;box-sizing: border-box;top: 0;bottom: 0;left: 50%;z-index: -1;}#sk-container-id-3 div.sk-parallel-item {display: flex;flex-direction: column;z-index: 1;position: relative;background-color: white;}#sk-container-id-3 div.sk-parallel-item:first-child::after {align-self: flex-end;width: 50%;}#sk-container-id-3 div.sk-parallel-item:last-child::after {align-self: flex-start;width: 50%;}#sk-container-id-3 div.sk-parallel-item:only-child::after {width: 0;}#sk-container-id-3 div.sk-dashed-wrapped {border: 1px dashed gray;margin: 0 0.4em 0.5em 0.4em;box-sizing: border-box;padding-bottom: 0.4em;background-color: white;}#sk-container-id-3 div.sk-label label {font-family: monospace;font-weight: bold;display: inline-block;line-height: 1.2em;}#sk-container-id-3 div.sk-label-container {text-align: center;}#sk-container-id-3 div.sk-container {/* jupyter's `normalize.less` sets `[hidden] { display: none; }` but bootstrap.min.css set `[hidden] { display: none !important; }` so we also need the `!important` here to be able to override the default hidden behavior on the sphinx rendered scikit-learn.org. See: https://github.com/scikit-learn/scikit-learn/issues/21755 */display: inline-block !important;position: relative;}#sk-container-id-3 div.sk-text-repr-fallback {display: none;}</style><div id=\"sk-container-id-3\" class=\"sk-top-container\"><div class=\"sk-text-repr-fallback\"><pre>LogisticRegression(max_iter=1000, random_state=42)</pre><b>In a Jupyter environment, please rerun this cell to show the HTML representation or trust the notebook. <br />On GitHub, the HTML representation is unable to render, please try loading this page with nbviewer.org.</b></div><div class=\"sk-container\" hidden><div class=\"sk-item\"><div class=\"sk-estimator sk-toggleable\"><input class=\"sk-toggleable__control sk-hidden--visually\" id=\"sk-estimator-id-3\" type=\"checkbox\" checked><label for=\"sk-estimator-id-3\" class=\"sk-toggleable__label sk-toggleable__label-arrow\">LogisticRegression</label><div class=\"sk-toggleable__content\"><pre>LogisticRegression(max_iter=1000, random_state=42)</pre></div></div></div></div></div>"
      ],
      "text/plain": [
       "LogisticRegression(max_iter=1000, random_state=42)"
      ]
     },
     "execution_count": 47,
     "metadata": {},
     "output_type": "execute_result"
    }
   ],
   "source": [
    "from sklearn.naive_bayes import GaussianNB\n",
    "model_gnb = GaussianNB()\n",
    "model_gnb.fit(X_train_scaled, y_train)\n",
    "\n",
    "from sklearn.linear_model import LogisticRegression\n",
    "model_lr = LogisticRegression(random_state=42, max_iter=1000, solver = 'lbfgs')\n",
    "model_lr.fit(X_train_scaled, y_train)"
   ]
  },
  {
   "cell_type": "code",
   "execution_count": null,
   "id": "010dce77",
   "metadata": {},
   "outputs": [],
   "source": [
    "data_generator_test = RCPDataGenerator(\n",
    "            true_mean_duration=true_mean_trip_durations, true_shrinkage_rate=shrinkage_rate, \n",
    "            initial_pool_size=1000, reference_date = dt.datetime(2025, 1, 1),\n",
    "            distribution = 'normal', n_routes = 5\n",
    "            )\n",
    "data_test = data_generator_test.generate_trips()\n",
    "\n",
    "data_test = data_test.with_columns(\n",
    "    year = pl.col('start_date').dt.year(),\n",
    "    month = pl.col('start_date').dt.month()\n",
    ").with_columns(\n",
    "    x_1_month = (2*mth.pi*(pl.col('month')-1)/12).cos(),\n",
    "    x_2_month = (2*mth.pi*(pl.col('month')-1)/12).sin()\n",
    ").drop('month').to_dummies('route').drop(\n",
    "    ['asset_id', 'start_date', 'return_date']\n",
    ").with_columns(\n",
    "    pl.when(pl.col('is_lost')).then(pl.lit(1))\n",
    "        .otherwise(pl.lit(0)).alias('is_lost')\n",
    ")\n",
    "\n",
    "X_test_scaled = scaler.transform(data_test.select(X_columns_non_binary))\n",
    "X_test_scaled = np.hstack((data_test.select(X_columns_binary).to_numpy(), X_test_scaled))\n",
    "y_test = data_test['is_lost'].to_numpy()"
   ]
  },
  {
   "cell_type": "code",
   "execution_count": 48,
   "id": "c56fbd8b",
   "metadata": {},
   "outputs": [
    {
     "name": "stdout",
     "output_type": "stream",
     "text": [
      "acuraccy for naive bayes is 84.00%\n",
      "acuraccy for logistic regression is 83.00%\n"
     ]
    }
   ],
   "source": [
    "forecast_gnb = model_gnb.predict(X_test_scaled)\n",
    "probabilities_gnb =  model_gnb.predict_proba(X_test_scaled)\n",
    "forecast_lr = model_lr.predict(X_test_scaled)\n",
    "probabilities_lr =  model_lr.predict_proba(X_test_scaled)\n",
    "\n",
    "acc_gnb = accuracy_score(forecast_gnb, y_test)\n",
    "print(f'acuraccy for naive bayes is {acc_gnb:0.2%}')\n",
    "acc_lr = accuracy_score(forecast_lr, y_test)\n",
    "print(f'acuraccy for logistic regression is {acc_lr:0.2%}')\n"
   ]
  },
  {
   "cell_type": "code",
   "execution_count": 49,
   "id": "d60f529b",
   "metadata": {},
   "outputs": [
    {
     "data": {
      "text/plain": [
       "<sklearn.metrics._plot.confusion_matrix.ConfusionMatrixDisplay at 0x202914eb080>"
      ]
     },
     "execution_count": 49,
     "metadata": {},
     "output_type": "execute_result"
    },
    {
     "data": {
      "image/png": "[encoded data removed]",
      "text/plain": [
       "<Figure size 640x480 with 2 Axes>"
      ]
     },
     "metadata": {},
     "output_type": "display_data"
    }
   ],
   "source": [
    "# confusion matrix for naive bayes\n",
    "ConfusionMatrixDisplay.from_estimator(model_gnb, X_test_scaled, y_test)"
   ]
  },
  {
   "cell_type": "code",
   "execution_count": 50,
   "id": "c27be57d",
   "metadata": {},
   "outputs": [
    {
     "data": {
      "text/plain": [
       "<sklearn.metrics._plot.confusion_matrix.ConfusionMatrixDisplay at 0x202967dffe0>"
      ]
     },
     "execution_count": 50,
     "metadata": {},
     "output_type": "execute_result"
    },
    {
     "data": {
      "image/png": "[encoded data removed]",
      "text/plain": [
       "<Figure size 640x480 with 2 Axes>"
      ]
     },
     "metadata": {},
     "output_type": "display_data"
    }
   ],
   "source": [
    "# confusion matrix for logisticregression\n",
    "ConfusionMatrixDisplay.from_estimator(model_lr, X_test_scaled, y_test)"
   ]
  },
  {
   "cell_type": "markdown",
   "id": "a7931b78",
   "metadata": {},
   "source": [
    "#### Comment on shrinkage rate result of modelling\n",
    "\n",
    "Let's comment some points:\n",
    "* Accuracy is similiar in both models, even naive bayes is slightly higher.\n",
    "* Seeing the confusion matrix we can see that logistic regression has a lot of false negatives (comparing to false positives), even thought it has more true negatives. In fact, there are a lot of negatives predictions.\n",
    "* Considering that in our case if there are the same false positives and false negatives, they compensate each other (what we expected not to lose we lose, and what we expected to lose we lose). Naive Bayes seems the model to choose for now.\n"
   ]
  },
  {
   "cell_type": "markdown",
   "id": "ac784c38",
   "metadata": {},
   "source": [
    "#### Data generation for pool size\n",
    "\n",
    "In this case, as commented before, we will thought the model taking in account just time variables. So we will consider data generated for a year, and predicting the next year (as we started again with the same number) and see if the models learns in an acceptable way. At the end, we comment the results."
   ]
  },
  {
   "cell_type": "code",
   "execution_count": 23,
   "id": "3fc75b90",
   "metadata": {},
   "outputs": [],
   "source": [
    "lost_data = data_generator.generate_simulation_lost_data()\n",
    "pool_size_data = data_generator.get_pool_size_data()"
   ]
  },
  {
   "cell_type": "code",
   "execution_count": 24,
   "id": "f45ab275",
   "metadata": {},
   "outputs": [
    {
     "data": {
      "application/vnd.plotly.v1+json": {
       "config": {
        "plotlyServerURL": "https://plot.ly"
       },
       "data": [
        {
         "hovertemplate": "date=%{x}<br>pool_size=%{y}<extra></extra>",
         "legendgroup": "",
         "line": {
          "color": "#636efa",
          "dash": "solid"
         },
         "marker": {
          "symbol": "circle"
         },
         "mode": "lines",
         "name": "",
         "orientation": "v",
         "showlegend": false,
         "type": "scatter",
         "x": [
          "2024-01-03T00:00:00",
          "2024-01-04T00:00:00",
          "2024-01-05T00:00:00",
          "2024-01-06T00:00:00",
          "2024-01-07T00:00:00",
          "2024-01-08T00:00:00",
          "2024-01-09T00:00:00",
          "2024-01-10T00:00:00",
          "2024-01-11T00:00:00",
          "2024-01-12T00:00:00",
          "2024-01-13T00:00:00",
          "2024-01-14T00:00:00",
          "2024-01-15T00:00:00",
          "2024-01-16T00:00:00",
          "2024-01-17T00:00:00",
          "2024-01-18T00:00:00",
          "2024-01-19T00:00:00",
          "2024-01-20T00:00:00",
          "2024-01-21T00:00:00",
          "2024-01-22T00:00:00",
          "2024-01-23T00:00:00",
          "2024-01-24T00:00:00",
          "2024-01-25T00:00:00",
          "2024-01-26T00:00:00",
          "2024-01-27T00:00:00",
          "2024-01-28T00:00:00",
          "2024-01-29T00:00:00",
          "2024-01-30T00:00:00",
          "2024-01-31T00:00:00",
          "2024-02-01T00:00:00",
          "2024-02-02T00:00:00",
          "2024-02-03T00:00:00",
          "2024-02-04T00:00:00",
          "2024-02-05T00:00:00",
          "2024-02-06T00:00:00",
          "2024-02-07T00:00:00",
          "2024-02-08T00:00:00",
          "2024-02-09T00:00:00",
          "2024-02-10T00:00:00",
          "2024-02-11T00:00:00",
          "2024-02-12T00:00:00",
          "2024-02-13T00:00:00",
          "2024-02-14T00:00:00",
          "2024-02-15T00:00:00",
          "2024-02-16T00:00:00",
          "2024-02-17T00:00:00",
          "2024-02-18T00:00:00",
          "2024-02-19T00:00:00",
          "2024-02-20T00:00:00",
          "2024-02-21T00:00:00",
          "2024-02-22T00:00:00",
          "2024-02-23T00:00:00",
          "2024-02-24T00:00:00",
          "2024-02-25T00:00:00",
          "2024-02-26T00:00:00",
          "2024-02-27T00:00:00",
          "2024-02-28T00:00:00",
          "2024-02-29T00:00:00",
          "2024-03-01T00:00:00",
          "2024-03-02T00:00:00",
          "2024-03-03T00:00:00",
          "2024-03-04T00:00:00",
          "2024-03-05T00:00:00",
          "2024-03-06T00:00:00",
          "2024-03-07T00:00:00",
          "2024-03-08T00:00:00",
          "2024-03-09T00:00:00",
          "2024-03-10T00:00:00",
          "2024-03-11T00:00:00",
          "2024-03-12T00:00:00",
          "2024-03-13T00:00:00",
          "2024-03-14T00:00:00",
          "2024-03-15T00:00:00",
          "2024-03-16T00:00:00",
          "2024-03-17T00:00:00",
          "2024-03-18T00:00:00",
          "2024-03-19T00:00:00",
          "2024-03-20T00:00:00",
          "2024-03-21T00:00:00",
          "2024-03-22T00:00:00",
          "2024-03-23T00:00:00",
          "2024-03-24T00:00:00",
          "2024-03-25T00:00:00",
          "2024-03-26T00:00:00",
          "2024-03-27T00:00:00",
          "2024-03-28T00:00:00",
          "2024-03-29T00:00:00",
          "2024-03-30T00:00:00",
          "2024-03-31T00:00:00",
          "2024-04-01T00:00:00",
          "2024-04-02T00:00:00",
          "2024-04-03T00:00:00",
          "2024-04-04T00:00:00",
          "2024-04-05T00:00:00",
          "2024-04-06T00:00:00",
          "2024-04-07T00:00:00",
          "2024-04-08T00:00:00",
          "2024-04-09T00:00:00",
          "2024-04-10T00:00:00",
          "2024-04-11T00:00:00",
          "2024-04-12T00:00:00",
          "2024-04-13T00:00:00",
          "2024-04-14T00:00:00",
          "2024-04-15T00:00:00",
          "2024-04-16T00:00:00",
          "2024-04-17T00:00:00",
          "2024-04-18T00:00:00",
          "2024-04-19T00:00:00",
          "2024-04-20T00:00:00",
          "2024-04-21T00:00:00",
          "2024-04-22T00:00:00",
          "2024-04-23T00:00:00",
          "2024-04-24T00:00:00",
          "2024-04-25T00:00:00",
          "2024-04-26T00:00:00",
          "2024-04-27T00:00:00",
          "2024-04-28T00:00:00",
          "2024-04-29T00:00:00",
          "2024-04-30T00:00:00",
          "2024-05-01T00:00:00",
          "2024-05-02T00:00:00",
          "2024-05-03T00:00:00",
          "2024-05-04T00:00:00",
          "2024-05-05T00:00:00",
          "2024-05-06T00:00:00",
          "2024-05-07T00:00:00",
          "2024-05-08T00:00:00",
          "2024-05-09T00:00:00",
          "2024-05-10T00:00:00",
          "2024-05-11T00:00:00",
          "2024-05-12T00:00:00",
          "2024-05-13T00:00:00",
          "2024-05-14T00:00:00",
          "2024-05-15T00:00:00",
          "2024-05-16T00:00:00",
          "2024-05-17T00:00:00",
          "2024-05-18T00:00:00",
          "2024-05-19T00:00:00",
          "2024-05-20T00:00:00",
          "2024-05-21T00:00:00",
          "2024-05-22T00:00:00",
          "2024-05-23T00:00:00",
          "2024-05-24T00:00:00",
          "2024-05-25T00:00:00",
          "2024-05-26T00:00:00",
          "2024-05-27T00:00:00",
          "2024-05-28T00:00:00",
          "2024-05-29T00:00:00",
          "2024-05-30T00:00:00",
          "2024-05-31T00:00:00",
          "2024-06-01T00:00:00",
          "2024-06-02T00:00:00",
          "2024-06-03T00:00:00",
          "2024-06-04T00:00:00",
          "2024-06-05T00:00:00",
          "2024-06-06T00:00:00",
          "2024-06-07T00:00:00",
          "2024-06-08T00:00:00",
          "2024-06-09T00:00:00",
          "2024-06-10T00:00:00",
          "2024-06-11T00:00:00",
          "2024-06-12T00:00:00",
          "2024-06-13T00:00:00",
          "2024-06-14T00:00:00",
          "2024-06-15T00:00:00",
          "2024-06-16T00:00:00",
          "2024-06-17T00:00:00",
          "2024-06-18T00:00:00",
          "2024-06-19T00:00:00",
          "2024-06-20T00:00:00",
          "2024-06-21T00:00:00",
          "2024-06-22T00:00:00",
          "2024-06-23T00:00:00",
          "2024-06-24T00:00:00",
          "2024-06-25T00:00:00",
          "2024-06-26T00:00:00",
          "2024-06-27T00:00:00",
          "2024-06-28T00:00:00",
          "2024-06-29T00:00:00",
          "2024-06-30T00:00:00",
          "2024-07-01T00:00:00",
          "2024-07-02T00:00:00",
          "2024-07-03T00:00:00",
          "2024-07-04T00:00:00",
          "2024-07-05T00:00:00",
          "2024-07-06T00:00:00",
          "2024-07-07T00:00:00",
          "2024-07-08T00:00:00",
          "2024-07-09T00:00:00",
          "2024-07-10T00:00:00",
          "2024-07-11T00:00:00",
          "2024-07-12T00:00:00",
          "2024-07-13T00:00:00",
          "2024-07-14T00:00:00",
          "2024-07-15T00:00:00",
          "2024-07-16T00:00:00",
          "2024-07-17T00:00:00",
          "2024-07-18T00:00:00",
          "2024-07-19T00:00:00",
          "2024-07-20T00:00:00",
          "2024-07-21T00:00:00",
          "2024-07-22T00:00:00",
          "2024-07-23T00:00:00",
          "2024-07-24T00:00:00",
          "2024-07-25T00:00:00",
          "2024-07-26T00:00:00",
          "2024-07-27T00:00:00",
          "2024-07-28T00:00:00",
          "2024-07-29T00:00:00",
          "2024-07-30T00:00:00",
          "2024-07-31T00:00:00",
          "2024-08-01T00:00:00",
          "2024-08-02T00:00:00",
          "2024-08-03T00:00:00",
          "2024-08-04T00:00:00",
          "2024-08-05T00:00:00",
          "2024-08-06T00:00:00",
          "2024-08-07T00:00:00",
          "2024-08-08T00:00:00",
          "2024-08-09T00:00:00",
          "2024-08-10T00:00:00",
          "2024-08-11T00:00:00",
          "2024-08-12T00:00:00",
          "2024-08-13T00:00:00",
          "2024-08-14T00:00:00",
          "2024-08-15T00:00:00",
          "2024-08-16T00:00:00",
          "2024-08-17T00:00:00",
          "2024-08-18T00:00:00",
          "2024-08-19T00:00:00",
          "2024-08-20T00:00:00",
          "2024-08-21T00:00:00",
          "2024-08-22T00:00:00",
          "2024-08-23T00:00:00",
          "2024-08-24T00:00:00",
          "2024-08-25T00:00:00",
          "2024-08-26T00:00:00",
          "2024-08-27T00:00:00",
          "2024-08-28T00:00:00",
          "2024-08-29T00:00:00",
          "2024-08-30T00:00:00",
          "2024-08-31T00:00:00",
          "2024-09-01T00:00:00",
          "2024-09-02T00:00:00",
          "2024-09-03T00:00:00",
          "2024-09-04T00:00:00",
          "2024-09-05T00:00:00",
          "2024-09-06T00:00:00",
          "2024-09-07T00:00:00",
          "2024-09-08T00:00:00",
          "2024-09-09T00:00:00",
          "2024-09-10T00:00:00",
          "2024-09-11T00:00:00",
          "2024-09-12T00:00:00",
          "2024-09-13T00:00:00",
          "2024-09-14T00:00:00",
          "2024-09-15T00:00:00",
          "2024-09-16T00:00:00",
          "2024-09-17T00:00:00",
          "2024-09-18T00:00:00",
          "2024-09-19T00:00:00",
          "2024-09-20T00:00:00",
          "2024-09-21T00:00:00",
          "2024-09-22T00:00:00",
          "2024-09-23T00:00:00",
          "2024-09-24T00:00:00",
          "2024-09-25T00:00:00",
          "2024-09-26T00:00:00",
          "2024-09-27T00:00:00",
          "2024-09-28T00:00:00",
          "2024-09-29T00:00:00",
          "2024-09-30T00:00:00",
          "2024-10-01T00:00:00",
          "2024-10-02T00:00:00",
          "2024-10-03T00:00:00",
          "2024-10-04T00:00:00",
          "2024-10-05T00:00:00",
          "2024-10-06T00:00:00",
          "2024-10-07T00:00:00",
          "2024-10-08T00:00:00",
          "2024-10-09T00:00:00",
          "2024-10-10T00:00:00",
          "2024-10-11T00:00:00",
          "2024-10-12T00:00:00",
          "2024-10-13T00:00:00",
          "2024-10-14T00:00:00",
          "2024-10-15T00:00:00",
          "2024-10-16T00:00:00",
          "2024-10-17T00:00:00",
          "2024-10-18T00:00:00",
          "2024-10-19T00:00:00",
          "2024-10-20T00:00:00",
          "2024-10-21T00:00:00",
          "2024-10-22T00:00:00",
          "2024-10-23T00:00:00",
          "2024-10-24T00:00:00",
          "2024-10-25T00:00:00",
          "2024-10-26T00:00:00",
          "2024-10-27T00:00:00",
          "2024-10-28T00:00:00",
          "2024-10-29T00:00:00",
          "2024-10-30T00:00:00",
          "2024-10-31T00:00:00",
          "2024-11-01T00:00:00",
          "2024-11-02T00:00:00",
          "2024-11-03T00:00:00",
          "2024-11-04T00:00:00",
          "2024-11-05T00:00:00",
          "2024-11-06T00:00:00",
          "2024-11-07T00:00:00",
          "2024-11-08T00:00:00",
          "2024-11-09T00:00:00",
          "2024-11-10T00:00:00",
          "2024-11-11T00:00:00",
          "2024-11-12T00:00:00",
          "2024-11-13T00:00:00",
          "2024-11-14T00:00:00",
          "2024-11-15T00:00:00",
          "2024-11-16T00:00:00",
          "2024-11-17T00:00:00",
          "2024-11-18T00:00:00",
          "2024-11-19T00:00:00",
          "2024-11-20T00:00:00",
          "2024-11-21T00:00:00",
          "2024-11-22T00:00:00",
          "2024-11-23T00:00:00",
          "2024-11-24T00:00:00",
          "2024-11-25T00:00:00",
          "2024-11-26T00:00:00",
          "2024-11-27T00:00:00",
          "2024-11-28T00:00:00",
          "2024-11-29T00:00:00",
          "2024-11-30T00:00:00",
          "2024-12-01T00:00:00",
          "2024-12-02T00:00:00",
          "2024-12-03T00:00:00",
          "2024-12-04T00:00:00",
          "2024-12-05T00:00:00",
          "2024-12-06T00:00:00",
          "2024-12-07T00:00:00",
          "2024-12-08T00:00:00",
          "2024-12-09T00:00:00",
          "2024-12-10T00:00:00",
          "2024-12-11T00:00:00",
          "2024-12-12T00:00:00",
          "2024-12-13T00:00:00",
          "2024-12-14T00:00:00",
          "2024-12-15T00:00:00",
          "2024-12-16T00:00:00",
          "2024-12-17T00:00:00",
          "2024-12-18T00:00:00",
          "2024-12-19T00:00:00",
          "2024-12-20T00:00:00",
          "2024-12-21T00:00:00",
          "2024-12-22T00:00:00",
          "2024-12-23T00:00:00",
          "2024-12-24T00:00:00",
          "2024-12-25T00:00:00",
          "2024-12-26T00:00:00",
          "2024-12-27T00:00:00",
          "2024-12-28T00:00:00",
          "2024-12-29T00:00:00",
          "2024-12-30T00:00:00",
          "2024-12-31T00:00:00",
          "2025-01-01T00:00:00",
          "2025-01-02T00:00:00",
          "2025-01-03T00:00:00",
          "2025-01-04T00:00:00",
          "2025-01-05T00:00:00",
          "2025-01-06T00:00:00",
          "2025-01-07T00:00:00",
          "2025-01-08T00:00:00",
          "2025-01-09T00:00:00",
          "2025-01-10T00:00:00",
          "2025-01-11T00:00:00",
          "2025-01-12T00:00:00",
          "2025-01-13T00:00:00",
          "2025-01-14T00:00:00",
          "2025-01-15T00:00:00",
          "2025-01-16T00:00:00",
          "2025-01-17T00:00:00",
          "2025-01-18T00:00:00",
          "2025-01-19T00:00:00",
          "2025-01-20T00:00:00",
          "2025-01-21T00:00:00",
          "2025-01-22T00:00:00",
          "2025-01-23T00:00:00",
          "2025-01-24T00:00:00",
          "2025-01-25T00:00:00",
          "2025-01-26T00:00:00",
          "2025-01-27T00:00:00",
          "2025-01-28T00:00:00",
          "2025-01-29T00:00:00",
          "2025-01-30T00:00:00",
          "2025-01-31T00:00:00"
         ],
         "xaxis": "x",
         "y": [
          100000,
          99998,
          99996,
          99996,
          99991,
          99979,
          99966,
          99953,
          99943,
          99922,
          99898,
          99875,
          99838,
          99804,
          99772,
          99743,
          99702,
          99669,
          99638,
          99606,
          99561,
          99517,
          99469,
          99434,
          99392,
          99363,
          99320,
          99277,
          99247,
          99202,
          99173,
          99117,
          99076,
          99042,
          99009,
          98963,
          98913,
          98870,
          98825,
          98782,
          98737,
          98692,
          98646,
          98602,
          98553,
          98505,
          98464,
          98414,
          98383,
          98341,
          98296,
          98235,
          98184,
          98132,
          98105,
          98067,
          98014,
          97957,
          97911,
          97870,
          97817,
          97774,
          97722,
          97677,
          97634,
          97591,
          97536,
          97483,
          97447,
          97407,
          97368,
          97329,
          97283,
          97226,
          97191,
          97140,
          97105,
          97061,
          97018,
          96954,
          96919,
          96868,
          96819,
          96773,
          96725,
          96686,
          96641,
          96596,
          96549,
          96518,
          96467,
          96420,
          96384,
          96337,
          96288,
          96241,
          96193,
          96145,
          96101,
          96054,
          96013,
          95977,
          95932,
          95895,
          95843,
          95792,
          95748,
          95710,
          95654,
          95607,
          95576,
          95526,
          95466,
          95424,
          95383,
          95339,
          95293,
          95247,
          95191,
          95153,
          95118,
          95071,
          95023,
          94975,
          94927,
          94872,
          94827,
          94785,
          94742,
          94696,
          94648,
          94608,
          94553,
          94493,
          94460,
          94412,
          94364,
          94318,
          94275,
          94229,
          94183,
          94139,
          94085,
          94037,
          93988,
          93937,
          93890,
          93848,
          93797,
          93750,
          93696,
          93649,
          93605,
          93560,
          93509,
          93458,
          93414,
          93379,
          93335,
          93291,
          93250,
          93204,
          93161,
          93120,
          93065,
          93034,
          92988,
          92947,
          92901,
          92859,
          92819,
          92767,
          92721,
          92690,
          92637,
          92590,
          92548,
          92503,
          92455,
          92409,
          92360,
          92323,
          92286,
          92242,
          92189,
          92142,
          92101,
          92055,
          92007,
          91954,
          91912,
          91876,
          91831,
          91791,
          91748,
          91692,
          91640,
          91599,
          91554,
          91507,
          91474,
          91425,
          91377,
          91344,
          91308,
          91261,
          91215,
          91172,
          91137,
          91089,
          91044,
          90829,
          90729,
          90651,
          90578,
          90520,
          90468,
          90420,
          90370,
          90334,
          90294,
          90243,
          90198,
          90150,
          90119,
          90077,
          90033,
          89982,
          89925,
          89887,
          89825,
          89788,
          89750,
          89697,
          89651,
          89605,
          89565,
          89513,
          89452,
          89399,
          89356,
          89300,
          89292,
          89284,
          89267,
          89250,
          89233,
          89209,
          89184,
          89164,
          89137,
          89102,
          89067,
          89032,
          88998,
          88960,
          88928,
          88895,
          88863,
          88828,
          88788,
          88752,
          88703,
          88659,
          88611,
          88571,
          88527,
          88482,
          88441,
          88404,
          88371,
          88322,
          88287,
          88245,
          88214,
          88158,
          88093,
          88049,
          88011,
          87968,
          87928,
          87887,
          87856,
          87808,
          87760,
          87715,
          87671,
          87613,
          87555,
          87508,
          87457,
          87408,
          87370,
          87313,
          87259,
          87207,
          87161,
          87110,
          87070,
          87026,
          86979,
          86936,
          86887,
          86843,
          86789,
          86743,
          86698,
          86640,
          86589,
          86557,
          86515,
          86479,
          86430,
          86387,
          86342,
          86297,
          86254,
          86211,
          86170,
          86124,
          86087,
          86041,
          85997,
          85943,
          85913,
          85866,
          85831,
          85791,
          85743,
          85706,
          85657,
          85611,
          85571,
          85346,
          85240,
          85137,
          85091,
          85038,
          84998,
          84955,
          84906,
          84870,
          84816,
          84775,
          84731,
          84696,
          84644,
          84598,
          84554,
          84504,
          84457,
          84418,
          84366,
          84312,
          84262,
          84212,
          84157,
          84110,
          84072,
          84035,
          83991,
          83948,
          83900,
          83848,
          83843,
          83831,
          83822,
          83808,
          83790,
          83776,
          83765,
          83747,
          83730,
          83716,
          83707,
          83698,
          83686,
          83679,
          83668,
          83667,
          83660,
          83656,
          83654,
          83651,
          83647,
          83643,
          83641,
          83641,
          83639,
          83639,
          83638,
          83638,
          83638,
          83638,
          83637
         ],
         "yaxis": "y"
        }
       ],
       "layout": {
        "legend": {
         "tracegroupgap": 0
        },
        "template": {
         "data": {
          "bar": [
           {
            "error_x": {
             "color": "#2a3f5f"
            },
            "error_y": {
             "color": "#2a3f5f"
            },
            "marker": {
             "line": {
              "color": "#E5ECF6",
              "width": 0.5
             },
             "pattern": {
              "fillmode": "overlay",
              "size": 10,
              "solidity": 0.2
             }
            },
            "type": "bar"
           }
          ],
          "barpolar": [
           {
            "marker": {
             "line": {
              "color": "#E5ECF6",
              "width": 0.5
             },
             "pattern": {
              "fillmode": "overlay",
              "size": 10,
              "solidity": 0.2
             }
            },
            "type": "barpolar"
           }
          ],
          "carpet": [
           {
            "aaxis": {
             "endlinecolor": "#2a3f5f",
             "gridcolor": "white",
             "linecolor": "white",
             "minorgridcolor": "white",
             "startlinecolor": "#2a3f5f"
            },
            "baxis": {
             "endlinecolor": "#2a3f5f",
             "gridcolor": "white",
             "linecolor": "white",
             "minorgridcolor": "white",
             "startlinecolor": "#2a3f5f"
            },
            "type": "carpet"
           }
          ],
          "choropleth": [
           {
            "colorbar": {
             "outlinewidth": 0,
             "ticks": ""
            },
            "type": "choropleth"
           }
          ],
          "contour": [
           {
            "colorbar": {
             "outlinewidth": 0,
             "ticks": ""
            },
            "colorscale": [
             [
              0,
              "#0d0887"
             ],
             [
              0.1111111111111111,
              "#46039f"
             ],
             [
              0.2222222222222222,
              "#7201a8"
             ],
             [
              0.3333333333333333,
              "#9c179e"
             ],
             [
              0.4444444444444444,
              "#bd3786"
             ],
             [
              0.5555555555555556,
              "#d8576b"
             ],
             [
              0.6666666666666666,
              "#ed7953"
             ],
             [
              0.7777777777777778,
              "#fb9f3a"
             ],
             [
              0.8888888888888888,
              "#fdca26"
             ],
             [
              1,
              "#f0f921"
             ]
            ],
            "type": "contour"
           }
          ],
          "contourcarpet": [
           {
            "colorbar": {
             "outlinewidth": 0,
             "ticks": ""
            },
            "type": "contourcarpet"
           }
          ],
          "heatmap": [
           {
            "colorbar": {
             "outlinewidth": 0,
             "ticks": ""
            },
            "colorscale": [
             [
              0,
              "#0d0887"
             ],
             [
              0.1111111111111111,
              "#46039f"
             ],
             [
              0.2222222222222222,
              "#7201a8"
             ],
             [
              0.3333333333333333,
              "#9c179e"
             ],
             [
              0.4444444444444444,
              "#bd3786"
             ],
             [
              0.5555555555555556,
              "#d8576b"
             ],
             [
              0.6666666666666666,
              "#ed7953"
             ],
             [
              0.7777777777777778,
              "#fb9f3a"
             ],
             [
              0.8888888888888888,
              "#fdca26"
             ],
             [
              1,
              "#f0f921"
             ]
            ],
            "type": "heatmap"
           }
          ],
          "heatmapgl": [
           {
            "colorbar": {
             "outlinewidth": 0,
             "ticks": ""
            },
            "colorscale": [
             [
              0,
              "#0d0887"
             ],
             [
              0.1111111111111111,
              "#46039f"
             ],
             [
              0.2222222222222222,
              "#7201a8"
             ],
             [
              0.3333333333333333,
              "#9c179e"
             ],
             [
              0.4444444444444444,
              "#bd3786"
             ],
             [
              0.5555555555555556,
              "#d8576b"
             ],
             [
              0.6666666666666666,
              "#ed7953"
             ],
             [
              0.7777777777777778,
              "#fb9f3a"
             ],
             [
              0.8888888888888888,
              "#fdca26"
             ],
             [
              1,
              "#f0f921"
             ]
            ],
            "type": "heatmapgl"
           }
          ],
          "histogram": [
           {
            "marker": {
             "pattern": {
              "fillmode": "overlay",
              "size": 10,
              "solidity": 0.2
             }
            },
            "type": "histogram"
           }
          ],
          "histogram2d": [
           {
            "colorbar": {
             "outlinewidth": 0,
             "ticks": ""
            },
            "colorscale": [
             [
              0,
              "#0d0887"
             ],
             [
              0.1111111111111111,
              "#46039f"
             ],
             [
              0.2222222222222222,
              "#7201a8"
             ],
             [
              0.3333333333333333,
              "#9c179e"
             ],
             [
              0.4444444444444444,
              "#bd3786"
             ],
             [
              0.5555555555555556,
              "#d8576b"
             ],
             [
              0.6666666666666666,
              "#ed7953"
             ],
             [
              0.7777777777777778,
              "#fb9f3a"
             ],
             [
              0.8888888888888888,
              "#fdca26"
             ],
             [
              1,
              "#f0f921"
             ]
            ],
            "type": "histogram2d"
           }
          ],
          "histogram2dcontour": [
           {
            "colorbar": {
             "outlinewidth": 0,
             "ticks": ""
            },
            "colorscale": [
             [
              0,
              "#0d0887"
             ],
             [
              0.1111111111111111,
              "#46039f"
             ],
             [
              0.2222222222222222,
              "#7201a8"
             ],
             [
              0.3333333333333333,
              "#9c179e"
             ],
             [
              0.4444444444444444,
              "#bd3786"
             ],
             [
              0.5555555555555556,
              "#d8576b"
             ],
             [
              0.6666666666666666,
              "#ed7953"
             ],
             [
              0.7777777777777778,
              "#fb9f3a"
             ],
             [
              0.8888888888888888,
              "#fdca26"
             ],
             [
              1,
              "#f0f921"
             ]
            ],
            "type": "histogram2dcontour"
           }
          ],
          "mesh3d": [
           {
            "colorbar": {
             "outlinewidth": 0,
             "ticks": ""
            },
            "type": "mesh3d"
           }
          ],
          "parcoords": [
           {
            "line": {
             "colorbar": {
              "outlinewidth": 0,
              "ticks": ""
             }
            },
            "type": "parcoords"
           }
          ],
          "pie": [
           {
            "automargin": true,
            "type": "pie"
           }
          ],
          "scatter": [
           {
            "fillpattern": {
             "fillmode": "overlay",
             "size": 10,
             "solidity": 0.2
            },
            "type": "scatter"
           }
          ],
          "scatter3d": [
           {
            "line": {
             "colorbar": {
              "outlinewidth": 0,
              "ticks": ""
             }
            },
            "marker": {
             "colorbar": {
              "outlinewidth": 0,
              "ticks": ""
             }
            },
            "type": "scatter3d"
           }
          ],
          "scattercarpet": [
           {
            "marker": {
             "colorbar": {
              "outlinewidth": 0,
              "ticks": ""
             }
            },
            "type": "scattercarpet"
           }
          ],
          "scattergeo": [
           {
            "marker": {
             "colorbar": {
              "outlinewidth": 0,
              "ticks": ""
             }
            },
            "type": "scattergeo"
           }
          ],
          "scattergl": [
           {
            "marker": {
             "colorbar": {
              "outlinewidth": 0,
              "ticks": ""
             }
            },
            "type": "scattergl"
           }
          ],
          "scattermapbox": [
           {
            "marker": {
             "colorbar": {
              "outlinewidth": 0,
              "ticks": ""
             }
            },
            "type": "scattermapbox"
           }
          ],
          "scatterpolar": [
           {
            "marker": {
             "colorbar": {
              "outlinewidth": 0,
              "ticks": ""
             }
            },
            "type": "scatterpolar"
           }
          ],
          "scatterpolargl": [
           {
            "marker": {
             "colorbar": {
              "outlinewidth": 0,
              "ticks": ""
             }
            },
            "type": "scatterpolargl"
           }
          ],
          "scatterternary": [
           {
            "marker": {
             "colorbar": {
              "outlinewidth": 0,
              "ticks": ""
             }
            },
            "type": "scatterternary"
           }
          ],
          "surface": [
           {
            "colorbar": {
             "outlinewidth": 0,
             "ticks": ""
            },
            "colorscale": [
             [
              0,
              "#0d0887"
             ],
             [
              0.1111111111111111,
              "#46039f"
             ],
             [
              0.2222222222222222,
              "#7201a8"
             ],
             [
              0.3333333333333333,
              "#9c179e"
             ],
             [
              0.4444444444444444,
              "#bd3786"
             ],
             [
              0.5555555555555556,
              "#d8576b"
             ],
             [
              0.6666666666666666,
              "#ed7953"
             ],
             [
              0.7777777777777778,
              "#fb9f3a"
             ],
             [
              0.8888888888888888,
              "#fdca26"
             ],
             [
              1,
              "#f0f921"
             ]
            ],
            "type": "surface"
           }
          ],
          "table": [
           {
            "cells": {
             "fill": {
              "color": "#EBF0F8"
             },
             "line": {
              "color": "white"
             }
            },
            "header": {
             "fill": {
              "color": "#C8D4E3"
             },
             "line": {
              "color": "white"
             }
            },
            "type": "table"
           }
          ]
         },
         "layout": {
          "annotationdefaults": {
           "arrowcolor": "#2a3f5f",
           "arrowhead": 0,
           "arrowwidth": 1
          },
          "autotypenumbers": "strict",
          "coloraxis": {
           "colorbar": {
            "outlinewidth": 0,
            "ticks": ""
           }
          },
          "colorscale": {
           "diverging": [
            [
             0,
             "#8e0152"
            ],
            [
             0.1,
             "#c51b7d"
            ],
            [
             0.2,
             "#de77ae"
            ],
            [
             0.3,
             "#f1b6da"
            ],
            [
             0.4,
             "#fde0ef"
            ],
            [
             0.5,
             "#f7f7f7"
            ],
            [
             0.6,
             "#e6f5d0"
            ],
            [
             0.7,
             "#b8e186"
            ],
            [
             0.8,
             "#7fbc41"
            ],
            [
             0.9,
             "#4d9221"
            ],
            [
             1,
             "#276419"
            ]
           ],
           "sequential": [
            [
             0,
             "#0d0887"
            ],
            [
             0.1111111111111111,
             "#46039f"
            ],
            [
             0.2222222222222222,
             "#7201a8"
            ],
            [
             0.3333333333333333,
             "#9c179e"
            ],
            [
             0.4444444444444444,
             "#bd3786"
            ],
            [
             0.5555555555555556,
             "#d8576b"
            ],
            [
             0.6666666666666666,
             "#ed7953"
            ],
            [
             0.7777777777777778,
             "#fb9f3a"
            ],
            [
             0.8888888888888888,
             "#fdca26"
            ],
            [
             1,
             "#f0f921"
            ]
           ],
           "sequentialminus": [
            [
             0,
             "#0d0887"
            ],
            [
             0.1111111111111111,
             "#46039f"
            ],
            [
             0.2222222222222222,
             "#7201a8"
            ],
            [
             0.3333333333333333,
             "#9c179e"
            ],
            [
             0.4444444444444444,
             "#bd3786"
            ],
            [
             0.5555555555555556,
             "#d8576b"
            ],
            [
             0.6666666666666666,
             "#ed7953"
            ],
            [
             0.7777777777777778,
             "#fb9f3a"
            ],
            [
             0.8888888888888888,
             "#fdca26"
            ],
            [
             1,
             "#f0f921"
            ]
           ]
          },
          "colorway": [
           "#636efa",
           "#EF553B",
           "#00cc96",
           "#ab63fa",
           "#FFA15A",
           "#19d3f3",
           "#FF6692",
           "#B6E880",
           "#FF97FF",
           "#FECB52"
          ],
          "font": {
           "color": "#2a3f5f"
          },
          "geo": {
           "bgcolor": "white",
           "lakecolor": "white",
           "landcolor": "#E5ECF6",
           "showlakes": true,
           "showland": true,
           "subunitcolor": "white"
          },
          "hoverlabel": {
           "align": "left"
          },
          "hovermode": "closest",
          "mapbox": {
           "style": "light"
          },
          "paper_bgcolor": "white",
          "plot_bgcolor": "#E5ECF6",
          "polar": {
           "angularaxis": {
            "gridcolor": "white",
            "linecolor": "white",
            "ticks": ""
           },
           "bgcolor": "#E5ECF6",
           "radialaxis": {
            "gridcolor": "white",
            "linecolor": "white",
            "ticks": ""
           }
          },
          "scene": {
           "xaxis": {
            "backgroundcolor": "#E5ECF6",
            "gridcolor": "white",
            "gridwidth": 2,
            "linecolor": "white",
            "showbackground": true,
            "ticks": "",
            "zerolinecolor": "white"
           },
           "yaxis": {
            "backgroundcolor": "#E5ECF6",
            "gridcolor": "white",
            "gridwidth": 2,
            "linecolor": "white",
            "showbackground": true,
            "ticks": "",
            "zerolinecolor": "white"
           },
           "zaxis": {
            "backgroundcolor": "#E5ECF6",
            "gridcolor": "white",
            "gridwidth": 2,
            "linecolor": "white",
            "showbackground": true,
            "ticks": "",
            "zerolinecolor": "white"
           }
          },
          "shapedefaults": {
           "line": {
            "color": "#2a3f5f"
           }
          },
          "ternary": {
           "aaxis": {
            "gridcolor": "white",
            "linecolor": "white",
            "ticks": ""
           },
           "baxis": {
            "gridcolor": "white",
            "linecolor": "white",
            "ticks": ""
           },
           "bgcolor": "#E5ECF6",
           "caxis": {
            "gridcolor": "white",
            "linecolor": "white",
            "ticks": ""
           }
          },
          "title": {
           "x": 0.05
          },
          "xaxis": {
           "automargin": true,
           "gridcolor": "white",
           "linecolor": "white",
           "ticks": "",
           "title": {
            "standoff": 15
           },
           "zerolinecolor": "white",
           "zerolinewidth": 2
          },
          "yaxis": {
           "automargin": true,
           "gridcolor": "white",
           "linecolor": "white",
           "ticks": "",
           "title": {
            "standoff": 15
           },
           "zerolinecolor": "white",
           "zerolinewidth": 2
          }
         }
        },
        "title": {
         "text": "pool_size_over_time"
        },
        "xaxis": {
         "anchor": "y",
         "domain": [
          0,
          1
         ],
         "title": {
          "text": "date"
         }
        },
        "yaxis": {
         "anchor": "x",
         "domain": [
          0,
          1
         ],
         "title": {
          "text": "pool_size"
         }
        }
       }
      }
     },
     "metadata": {},
     "output_type": "display_data"
    }
   ],
   "source": [
    "fig = px.line(pool_size_data, x=\"date\", y=\"pool_size\", title='pool_size_over_time')\n",
    "fig.show()"
   ]
  },
  {
   "cell_type": "code",
   "execution_count": null,
   "id": "9c424d3a",
   "metadata": {},
   "outputs": [],
   "source": [
    "X_train = pool_size_data.filter(\n",
    "    (pl.col('date') >= dt.datetime(2024, 1, 1)) &\n",
    "    (pl.col('date') < dt.datetime(2025, 1, 1))\n",
    ").with_columns(\n",
    "    year = pl.col('date').dt.year(),\n",
    "    month = pl.col('date').dt.month(),\n",
    "    day = pl.col('date').dt.day(),\n",
    "    weekday = pl.col('date').dt.weekday(),\n",
    "    week = pl.col('date').dt.week()\n",
    ").with_columns(\n",
    "    x_1_month = (2*mth.pi*(pl.col('month')-1)/12).cos(),\n",
    "    x_2_month = (2*mth.pi*(pl.col('month')-1)/12).sin(),\n",
    "    x_1_weekday = (2*mth.pi*(pl.col('weekday')-1)/7).cos(),\n",
    "    x_2_weekday = (2*mth.pi*(pl.col('weekday')-1)/7).sin(),\n",
    "    x_1_week = (2*mth.pi*(pl.col('week')-1)/53).cos(),\n",
    "    x_2_week = (2*mth.pi*(pl.col('week')-1)/53).sin()\n",
    ").drop(['month', 'weekday', 'week', 'losses', 'losses_cumsum', 'date', 'pool_size'])\n",
    "y_train = pool_size_data.filter(\n",
    "    (pl.col('date') >= dt.datetime(2024, 1, 1)) &\n",
    "    (pl.col('date') < dt.datetime(2025, 1, 1))\n",
    ")['pool_size']"
   ]
  },
  {
   "cell_type": "code",
   "execution_count": 110,
   "id": "0340db50",
   "metadata": {},
   "outputs": [],
   "source": [
    "model_linear = ElasticNet(random_state = 42).fit(X_train, y_train)\n",
    "model_xgb = XGBRegressor(random_state = 42).fit(X_train, y_train)"
   ]
  },
  {
   "cell_type": "code",
   "execution_count": 111,
   "id": "58a5df17",
   "metadata": {},
   "outputs": [],
   "source": [
    "start_date = dt.datetime(2025, 1, 1)\n",
    "end_date = dt.datetime(2025, 12, 31)\n",
    "n_days = (end_date - start_date).days\n",
    "date_list = [start_date + dt.timedelta(days=x) for x in range(n_days+1)]"
   ]
  },
  {
   "cell_type": "code",
   "execution_count": null,
   "id": "b4010ad6",
   "metadata": {},
   "outputs": [],
   "source": [
    "X_test = pl.DataFrame({'date':date_list}).with_columns(\n",
    "    year = pl.col('date').dt.year(),\n",
    "    month = pl.col('date').dt.month(),\n",
    "    day = pl.col('date').dt.day(),\n",
    "    weekday = pl.col('date').dt.weekday(),\n",
    "    week = pl.col('date').dt.week()\n",
    ").with_columns(\n",
    "    x_1_month = (2*mth.pi*(pl.col('month')-1)/12).cos(),\n",
    "    x_2_month = (2*mth.pi*(pl.col('month')-1)/12).sin(),\n",
    "    x_1_weekday = (2*mth.pi*(pl.col('weekday')-1)/7).cos(),\n",
    "    x_2_weekday = (2*mth.pi*(pl.col('weekday')-1)/7).sin(),\n",
    "    x_1_week = (2*mth.pi*(pl.col('week')-1)/53).cos(),\n",
    "    x_2_week = (2*mth.pi*(pl.col('week')-1)/53).sin()\n",
    ").drop(['date', 'month', 'weekday', 'week'])"
   ]
  },
  {
   "cell_type": "code",
   "execution_count": 113,
   "id": "c7ccd917",
   "metadata": {},
   "outputs": [],
   "source": [
    "forecast_linear = model_linear.predict(X_test)\n",
    "forecast_xgb = model_xgb.predict(X_test)"
   ]
  },
  {
   "cell_type": "code",
   "execution_count": 114,
   "id": "4cd6b632",
   "metadata": {},
   "outputs": [
    {
     "data": {
      "application/vnd.plotly.v1+json": {
       "config": {
        "plotlyServerURL": "https://plot.ly"
       },
       "data": [
        {
         "hovertemplate": "x=%{x}<br>y=%{y}<extra></extra>",
         "legendgroup": "",
         "line": {
          "color": "#636efa",
          "dash": "solid"
         },
         "marker": {
          "symbol": "circle"
         },
         "mode": "lines",
         "name": "",
         "orientation": "v",
         "showlegend": false,
         "type": "scatter",
         "x": [
          "2025-01-01T00:00:00",
          "2025-01-02T00:00:00",
          "2025-01-03T00:00:00",
          "2025-01-04T00:00:00",
          "2025-01-05T00:00:00",
          "2025-01-06T00:00:00",
          "2025-01-07T00:00:00",
          "2025-01-08T00:00:00",
          "2025-01-09T00:00:00",
          "2025-01-10T00:00:00",
          "2025-01-11T00:00:00",
          "2025-01-12T00:00:00",
          "2025-01-13T00:00:00",
          "2025-01-14T00:00:00",
          "2025-01-15T00:00:00",
          "2025-01-16T00:00:00",
          "2025-01-17T00:00:00",
          "2025-01-18T00:00:00",
          "2025-01-19T00:00:00",
          "2025-01-20T00:00:00",
          "2025-01-21T00:00:00",
          "2025-01-22T00:00:00",
          "2025-01-23T00:00:00",
          "2025-01-24T00:00:00",
          "2025-01-25T00:00:00",
          "2025-01-26T00:00:00",
          "2025-01-27T00:00:00",
          "2025-01-28T00:00:00",
          "2025-01-29T00:00:00",
          "2025-01-30T00:00:00",
          "2025-01-31T00:00:00",
          "2025-02-01T00:00:00",
          "2025-02-02T00:00:00",
          "2025-02-03T00:00:00",
          "2025-02-04T00:00:00",
          "2025-02-05T00:00:00",
          "2025-02-06T00:00:00",
          "2025-02-07T00:00:00",
          "2025-02-08T00:00:00",
          "2025-02-09T00:00:00",
          "2025-02-10T00:00:00",
          "2025-02-11T00:00:00",
          "2025-02-12T00:00:00",
          "2025-02-13T00:00:00",
          "2025-02-14T00:00:00",
          "2025-02-15T00:00:00",
          "2025-02-16T00:00:00",
          "2025-02-17T00:00:00",
          "2025-02-18T00:00:00",
          "2025-02-19T00:00:00",
          "2025-02-20T00:00:00",
          "2025-02-21T00:00:00",
          "2025-02-22T00:00:00",
          "2025-02-23T00:00:00",
          "2025-02-24T00:00:00",
          "2025-02-25T00:00:00",
          "2025-02-26T00:00:00",
          "2025-02-27T00:00:00",
          "2025-02-28T00:00:00",
          "2025-03-01T00:00:00",
          "2025-03-02T00:00:00",
          "2025-03-03T00:00:00",
          "2025-03-04T00:00:00",
          "2025-03-05T00:00:00",
          "2025-03-06T00:00:00",
          "2025-03-07T00:00:00",
          "2025-03-08T00:00:00",
          "2025-03-09T00:00:00",
          "2025-03-10T00:00:00",
          "2025-03-11T00:00:00",
          "2025-03-12T00:00:00",
          "2025-03-13T00:00:00",
          "2025-03-14T00:00:00",
          "2025-03-15T00:00:00",
          "2025-03-16T00:00:00",
          "2025-03-17T00:00:00",
          "2025-03-18T00:00:00",
          "2025-03-19T00:00:00",
          "2025-03-20T00:00:00",
          "2025-03-21T00:00:00",
          "2025-03-22T00:00:00",
          "2025-03-23T00:00:00",
          "2025-03-24T00:00:00",
          "2025-03-25T00:00:00",
          "2025-03-26T00:00:00",
          "2025-03-27T00:00:00",
          "2025-03-28T00:00:00",
          "2025-03-29T00:00:00",
          "2025-03-30T00:00:00",
          "2025-03-31T00:00:00",
          "2025-04-01T00:00:00",
          "2025-04-02T00:00:00",
          "2025-04-03T00:00:00",
          "2025-04-04T00:00:00",
          "2025-04-05T00:00:00",
          "2025-04-06T00:00:00",
          "2025-04-07T00:00:00",
          "2025-04-08T00:00:00",
          "2025-04-09T00:00:00",
          "2025-04-10T00:00:00",
          "2025-04-11T00:00:00",
          "2025-04-12T00:00:00",
          "2025-04-13T00:00:00",
          "2025-04-14T00:00:00",
          "2025-04-15T00:00:00",
          "2025-04-16T00:00:00",
          "2025-04-17T00:00:00",
          "2025-04-18T00:00:00",
          "2025-04-19T00:00:00",
          "2025-04-20T00:00:00",
          "2025-04-21T00:00:00",
          "2025-04-22T00:00:00",
          "2025-04-23T00:00:00",
          "2025-04-24T00:00:00",
          "2025-04-25T00:00:00",
          "2025-04-26T00:00:00",
          "2025-04-27T00:00:00",
          "2025-04-28T00:00:00",
          "2025-04-29T00:00:00",
          "2025-04-30T00:00:00",
          "2025-05-01T00:00:00",
          "2025-05-02T00:00:00",
          "2025-05-03T00:00:00",
          "2025-05-04T00:00:00",
          "2025-05-05T00:00:00",
          "2025-05-06T00:00:00",
          "2025-05-07T00:00:00",
          "2025-05-08T00:00:00",
          "2025-05-09T00:00:00",
          "2025-05-10T00:00:00",
          "2025-05-11T00:00:00",
          "2025-05-12T00:00:00",
          "2025-05-13T00:00:00",
          "2025-05-14T00:00:00",
          "2025-05-15T00:00:00",
          "2025-05-16T00:00:00",
          "2025-05-17T00:00:00",
          "2025-05-18T00:00:00",
          "2025-05-19T00:00:00",
          "2025-05-20T00:00:00",
          "2025-05-21T00:00:00",
          "2025-05-22T00:00:00",
          "2025-05-23T00:00:00",
          "2025-05-24T00:00:00",
          "2025-05-25T00:00:00",
          "2025-05-26T00:00:00",
          "2025-05-27T00:00:00",
          "2025-05-28T00:00:00",
          "2025-05-29T00:00:00",
          "2025-05-30T00:00:00",
          "2025-05-31T00:00:00",
          "2025-06-01T00:00:00",
          "2025-06-02T00:00:00",
          "2025-06-03T00:00:00",
          "2025-06-04T00:00:00",
          "2025-06-05T00:00:00",
          "2025-06-06T00:00:00",
          "2025-06-07T00:00:00",
          "2025-06-08T00:00:00",
          "2025-06-09T00:00:00",
          "2025-06-10T00:00:00",
          "2025-06-11T00:00:00",
          "2025-06-12T00:00:00",
          "2025-06-13T00:00:00",
          "2025-06-14T00:00:00",
          "2025-06-15T00:00:00",
          "2025-06-16T00:00:00",
          "2025-06-17T00:00:00",
          "2025-06-18T00:00:00",
          "2025-06-19T00:00:00",
          "2025-06-20T00:00:00",
          "2025-06-21T00:00:00",
          "2025-06-22T00:00:00",
          "2025-06-23T00:00:00",
          "2025-06-24T00:00:00",
          "2025-06-25T00:00:00",
          "2025-06-26T00:00:00",
          "2025-06-27T00:00:00",
          "2025-06-28T00:00:00",
          "2025-06-29T00:00:00",
          "2025-06-30T00:00:00",
          "2025-07-01T00:00:00",
          "2025-07-02T00:00:00",
          "2025-07-03T00:00:00",
          "2025-07-04T00:00:00",
          "2025-07-05T00:00:00",
          "2025-07-06T00:00:00",
          "2025-07-07T00:00:00",
          "2025-07-08T00:00:00",
          "2025-07-09T00:00:00",
          "2025-07-10T00:00:00",
          "2025-07-11T00:00:00",
          "2025-07-12T00:00:00",
          "2025-07-13T00:00:00",
          "2025-07-14T00:00:00",
          "2025-07-15T00:00:00",
          "2025-07-16T00:00:00",
          "2025-07-17T00:00:00",
          "2025-07-18T00:00:00",
          "2025-07-19T00:00:00",
          "2025-07-20T00:00:00",
          "2025-07-21T00:00:00",
          "2025-07-22T00:00:00",
          "2025-07-23T00:00:00",
          "2025-07-24T00:00:00",
          "2025-07-25T00:00:00",
          "2025-07-26T00:00:00",
          "2025-07-27T00:00:00",
          "2025-07-28T00:00:00",
          "2025-07-29T00:00:00",
          "2025-07-30T00:00:00",
          "2025-07-31T00:00:00",
          "2025-08-01T00:00:00",
          "2025-08-02T00:00:00",
          "2025-08-03T00:00:00",
          "2025-08-04T00:00:00",
          "2025-08-05T00:00:00",
          "2025-08-06T00:00:00",
          "2025-08-07T00:00:00",
          "2025-08-08T00:00:00",
          "2025-08-09T00:00:00",
          "2025-08-10T00:00:00",
          "2025-08-11T00:00:00",
          "2025-08-12T00:00:00",
          "2025-08-13T00:00:00",
          "2025-08-14T00:00:00",
          "2025-08-15T00:00:00",
          "2025-08-16T00:00:00",
          "2025-08-17T00:00:00",
          "2025-08-18T00:00:00",
          "2025-08-19T00:00:00",
          "2025-08-20T00:00:00",
          "2025-08-21T00:00:00",
          "2025-08-22T00:00:00",
          "2025-08-23T00:00:00",
          "2025-08-24T00:00:00",
          "2025-08-25T00:00:00",
          "2025-08-26T00:00:00",
          "2025-08-27T00:00:00",
          "2025-08-28T00:00:00",
          "2025-08-29T00:00:00",
          "2025-08-30T00:00:00",
          "2025-08-31T00:00:00",
          "2025-09-01T00:00:00",
          "2025-09-02T00:00:00",
          "2025-09-03T00:00:00",
          "2025-09-04T00:00:00",
          "2025-09-05T00:00:00",
          "2025-09-06T00:00:00",
          "2025-09-07T00:00:00",
          "2025-09-08T00:00:00",
          "2025-09-09T00:00:00",
          "2025-09-10T00:00:00",
          "2025-09-11T00:00:00",
          "2025-09-12T00:00:00",
          "2025-09-13T00:00:00",
          "2025-09-14T00:00:00",
          "2025-09-15T00:00:00",
          "2025-09-16T00:00:00",
          "2025-09-17T00:00:00",
          "2025-09-18T00:00:00",
          "2025-09-19T00:00:00",
          "2025-09-20T00:00:00",
          "2025-09-21T00:00:00",
          "2025-09-22T00:00:00",
          "2025-09-23T00:00:00",
          "2025-09-24T00:00:00",
          "2025-09-25T00:00:00",
          "2025-09-26T00:00:00",
          "2025-09-27T00:00:00",
          "2025-09-28T00:00:00",
          "2025-09-29T00:00:00",
          "2025-09-30T00:00:00",
          "2025-10-01T00:00:00",
          "2025-10-02T00:00:00",
          "2025-10-03T00:00:00",
          "2025-10-04T00:00:00",
          "2025-10-05T00:00:00",
          "2025-10-06T00:00:00",
          "2025-10-07T00:00:00",
          "2025-10-08T00:00:00",
          "2025-10-09T00:00:00",
          "2025-10-10T00:00:00",
          "2025-10-11T00:00:00",
          "2025-10-12T00:00:00",
          "2025-10-13T00:00:00",
          "2025-10-14T00:00:00",
          "2025-10-15T00:00:00",
          "2025-10-16T00:00:00",
          "2025-10-17T00:00:00",
          "2025-10-18T00:00:00",
          "2025-10-19T00:00:00",
          "2025-10-20T00:00:00",
          "2025-10-21T00:00:00",
          "2025-10-22T00:00:00",
          "2025-10-23T00:00:00",
          "2025-10-24T00:00:00",
          "2025-10-25T00:00:00",
          "2025-10-26T00:00:00",
          "2025-10-27T00:00:00",
          "2025-10-28T00:00:00",
          "2025-10-29T00:00:00",
          "2025-10-30T00:00:00",
          "2025-10-31T00:00:00",
          "2025-11-01T00:00:00",
          "2025-11-02T00:00:00",
          "2025-11-03T00:00:00",
          "2025-11-04T00:00:00",
          "2025-11-05T00:00:00",
          "2025-11-06T00:00:00",
          "2025-11-07T00:00:00",
          "2025-11-08T00:00:00",
          "2025-11-09T00:00:00",
          "2025-11-10T00:00:00",
          "2025-11-11T00:00:00",
          "2025-11-12T00:00:00",
          "2025-11-13T00:00:00",
          "2025-11-14T00:00:00",
          "2025-11-15T00:00:00",
          "2025-11-16T00:00:00",
          "2025-11-17T00:00:00",
          "2025-11-18T00:00:00",
          "2025-11-19T00:00:00",
          "2025-11-20T00:00:00",
          "2025-11-21T00:00:00",
          "2025-11-22T00:00:00",
          "2025-11-23T00:00:00",
          "2025-11-24T00:00:00",
          "2025-11-25T00:00:00",
          "2025-11-26T00:00:00",
          "2025-11-27T00:00:00",
          "2025-11-28T00:00:00",
          "2025-11-29T00:00:00",
          "2025-11-30T00:00:00",
          "2025-12-01T00:00:00",
          "2025-12-02T00:00:00",
          "2025-12-03T00:00:00",
          "2025-12-04T00:00:00",
          "2025-12-05T00:00:00",
          "2025-12-06T00:00:00",
          "2025-12-07T00:00:00",
          "2025-12-08T00:00:00",
          "2025-12-09T00:00:00",
          "2025-12-10T00:00:00",
          "2025-12-11T00:00:00",
          "2025-12-12T00:00:00",
          "2025-12-13T00:00:00",
          "2025-12-14T00:00:00",
          "2025-12-15T00:00:00",
          "2025-12-16T00:00:00",
          "2025-12-17T00:00:00",
          "2025-12-18T00:00:00",
          "2025-12-19T00:00:00",
          "2025-12-20T00:00:00",
          "2025-12-21T00:00:00",
          "2025-12-22T00:00:00",
          "2025-12-23T00:00:00",
          "2025-12-24T00:00:00",
          "2025-12-25T00:00:00",
          "2025-12-26T00:00:00",
          "2025-12-27T00:00:00",
          "2025-12-28T00:00:00",
          "2025-12-29T00:00:00",
          "2025-12-30T00:00:00",
          "2025-12-31T00:00:00"
         ],
         "xaxis": "x",
         "y": [
          93419.88114681432,
          93404.17723360755,
          93352.92314166288,
          93276.21563516205,
          93203.31841860263,
          93375.05362448638,
          93366.21561650939,
          93369.38863654115,
          93353.68472333436,
          93302.43063138968,
          93225.72312488886,
          93152.82590832944,
          93319.45369285032,
          93310.61568487335,
          93313.78870490509,
          93298.08479169832,
          93246.83069975364,
          93170.1231932528,
          93097.2259766934,
          93255.80794262017,
          93246.96993464319,
          93250.14295467494,
          93234.43904146817,
          93183.18494952348,
          93106.47744302265,
          93033.58022646324,
          93181.29092222104,
          93172.45291424407,
          93175.62593427581,
          93159.92202106904,
          93108.66792912436,
          95005.73550819082,
          94932.83829163141,
          95067.00487444845,
          95058.16686647148,
          95061.33988650324,
          95045.63597329645,
          94994.38188135177,
          94917.67437485095,
          94844.77715829153,
          94962.91691505264,
          94954.07890707567,
          94957.25192710743,
          94941.54801390064,
          94890.29392195596,
          94813.58641545514,
          94740.68919889572,
          94840.54439799233,
          94831.70639001536,
          94834.8794100471,
          94819.17549684033,
          94767.92140489565,
          94691.21389839481,
          94618.31668183541,
          94697.88626676828,
          94689.04825879131,
          94692.22127882305,
          94676.51736561628,
          94625.2632736716,
          96082.32710496652,
          96009.4298884071,
          96066.9975682333,
          96058.15956025632,
          96061.33258028807,
          96045.6286670813,
          95994.37457513661,
          95917.66706863578,
          95844.76985207637,
          95878.92819437182,
          95870.09018639484,
          95873.26320642659,
          95857.55929321982,
          95806.30520127513,
          95729.5976947743,
          95656.70047821489,
          95666.37066634059,
          95657.5326583636,
          95660.70567839536,
          95645.00176518859,
          95593.7476732439,
          95517.04016674307,
          95444.14295018365,
          95428.58992750643,
          95419.75191952946,
          95422.9249395612,
          95407.22102635443,
          95355.96693440975,
          95279.25942790892,
          95206.36221134951,
          95165.2049998259,
          96350.17679344787,
          96353.34981347962,
          96337.64590027285,
          96286.39180832818,
          96209.68430182734,
          96136.78708526792,
          96070.00413354083,
          96061.16612556386,
          96064.3391455956,
          96048.63523238883,
          95997.38114044415,
          95920.67363394331,
          95847.77641738391,
          95755.70590331634,
          95746.86789533935,
          95750.04091537111,
          95734.33700216433,
          95683.08291021966,
          95606.37540371882,
          95533.4781871594,
          95416.81327055862,
          95407.97526258165,
          95411.14828261339,
          95395.44436940661,
          95344.19027746194,
          95267.4827709611,
          95194.5855544017,
          95054.3646465749,
          95045.52663859793,
          95048.69965862969,
          95729.94346849194,
          95678.68937654726,
          95601.98187004644,
          95529.08465348702,
          95366.67684022292,
          95357.83883224595,
          95361.01185227769,
          95345.30793907092,
          95294.05384712624,
          95217.3463406254,
          95144.449124066,
          94961.5349466713,
          94952.69693869431,
          94955.86995872606,
          94940.16604551929,
          94888.91195357461,
          94812.20444707377,
          94739.30723051436,
          94537.85509469766,
          94529.01708672069,
          94532.19010675243,
          94516.48619354566,
          94465.23210160098,
          94388.52459510016,
          94315.62737854074,
          94097.86592231119,
          94089.0279143342,
          94092.20093436596,
          94076.49702115919,
          94025.2429292145,
          93948.53542271367,
          94268.89079274145,
          94037.27760121631,
          94028.43959323934,
          94031.61261327108,
          94015.9087000643,
          93964.65460811963,
          93887.94710161879,
          93815.04988505939,
          93572.2369913561,
          93563.39898337913,
          93566.57200341087,
          93550.8680902041,
          93499.61399825942,
          93422.90649175858,
          93350.00927519918,
          93098.80593170373,
          93089.96792372674,
          93093.1409437585,
          93077.43703055171,
          93026.18293860703,
          92949.4754321062,
          92876.57821554679,
          92619.91145816812,
          92611.07345019115,
          92614.2464702229,
          92598.54255701612,
          92547.28846507144,
          92470.58095857062,
          92397.6837420112,
          92138.55730101325,
          92352.57633558555,
          92355.74935561728,
          92340.04544241051,
          92288.79135046584,
          92212.083843965,
          92139.1866274056,
          91880.63876161861,
          91871.80075364164,
          91874.9737736734,
          91859.26986046661,
          91808.01576852193,
          91731.3082620211,
          91658.41104546169,
          91403.47189178823,
          91394.63388381126,
          91397.80690384301,
          91382.10299063622,
          91330.84889869155,
          91254.14139219072,
          91181.2441756313,
          90932.89321256622,
          90924.05520458925,
          90927.228224621,
          90911.52431141422,
          90860.27021946954,
          90783.5627129687,
          90710.6654964093,
          90471.78971869282,
          90462.95171071585,
          90466.12473074759,
          90450.42081754081,
          90771.82738113991,
          90695.11987463909,
          90622.22265807967,
          90395.57604961956,
          90386.73804164259,
          90389.91106167433,
          90374.20714846755,
          90322.95305652288,
          90246.24555002205,
          90173.34833346264,
          89961.51320743699,
          89952.67519946002,
          89955.84821949176,
          89940.14430628499,
          89888.89021434031,
          89812.18270783947,
          89739.28549128007,
          89544.63624012077,
          89535.7982321438,
          89538.97125217554,
          89523.26733896877,
          89472.0132470241,
          89395.30574052325,
          89322.40852396385,
          89147.07828809156,
          89138.24028011458,
          89141.41330014633,
          89125.70938693956,
          89074.45529499487,
          88997.74778849405,
          88924.85057193463,
          89469.82848517895,
          89460.99047720198,
          89464.16349723373,
          89448.45958402695,
          89397.20549208227,
          89320.49798558145,
          89247.60076902203,
          89116.19706086902,
          89107.35905289203,
          89110.53207292379,
          89094.828159717,
          89043.57406777232,
          88966.8665612715,
          88893.96934471208,
          88786.55651683029,
          88777.7185088533,
          88780.89152888505,
          88765.18761567827,
          88713.93352373359,
          88637.22601723277,
          88564.32880067335,
          88481.8153853252,
          88472.97737734823,
          88476.15039737997,
          88460.4464841732,
          88409.19239222852,
          88332.4848857277,
          88259.58766916828,
          88202.53266544444,
          88193.69465746747,
          89311.64787925148,
          89295.94396604471,
          89244.68987410003,
          89167.9823675992,
          89095.08515103979,
          89063.69017773724,
          89054.85216976027,
          89058.02518979201,
          89042.32127658524,
          88991.06718464056,
          88914.35967813972,
          88841.46246158032,
          88835.5689269164,
          88826.73091893943,
          88829.90393897117,
          88814.2000257644,
          88762.94593381972,
          88686.23842731888,
          88613.34121075948,
          88632.4325386529,
          88623.59453067591,
          88626.76755070766,
          88611.06363750089,
          88559.8095455562,
          88483.10203905537,
          88410.20482249596,
          88453.4137041626,
          88444.57569618562,
          88447.74871621738,
          88432.04480301059,
          88380.79071106591,
          89915.72548484727,
          89842.82826828785,
          89908.94883735495,
          89900.11082937797,
          89903.28384940972,
          89887.57993620294,
          89836.32584425826,
          89759.61833775743,
          89686.72112119802,
          89774.22588142476,
          89765.38787344778,
          89768.56089347953,
          89752.85698027276,
          89701.60288832808,
          89624.89538182724,
          89551.99816526783,
          89659.05943324423,
          89650.22142526726,
          89653.394445299,
          89637.69053209222,
          89586.43644014755,
          89509.72893364672,
          89436.8317170873,
          89561.34727890298,
          89552.509270926,
          89555.68229095775,
          89539.97837775097,
          89488.7242858063,
          89412.01677930546,
          89339.11956274605,
          91394.07960122942,
          91385.24159325243,
          91388.41461328419,
          91372.7107000774,
          91321.45660813272,
          91244.7491016319,
          91171.85188507248,
          91324.0222627539,
          91315.18425477693,
          91318.35727480867,
          91302.6533616019,
          91251.39926965722,
          91174.69176315638,
          91101.79454659698,
          91263.77723331023,
          91254.93922533325,
          91258.112245365,
          91242.40833215823,
          91191.15424021355,
          91114.44673371271,
          91041.5495171533,
          91210.47132265817,
          91201.63331468118,
          91204.80633471294,
          91189.10242150616,
          91137.84832956149,
          91061.14082306065,
          90988.24360650123,
          91377.65891171746,
          91368.82090374047,
          91371.99392377223
         ],
         "yaxis": "y"
        }
       ],
       "layout": {
        "legend": {
         "tracegroupgap": 0
        },
        "template": {
         "data": {
          "bar": [
           {
            "error_x": {
             "color": "#2a3f5f"
            },
            "error_y": {
             "color": "#2a3f5f"
            },
            "marker": {
             "line": {
              "color": "#E5ECF6",
              "width": 0.5
             },
             "pattern": {
              "fillmode": "overlay",
              "size": 10,
              "solidity": 0.2
             }
            },
            "type": "bar"
           }
          ],
          "barpolar": [
           {
            "marker": {
             "line": {
              "color": "#E5ECF6",
              "width": 0.5
             },
             "pattern": {
              "fillmode": "overlay",
              "size": 10,
              "solidity": 0.2
             }
            },
            "type": "barpolar"
           }
          ],
          "carpet": [
           {
            "aaxis": {
             "endlinecolor": "#2a3f5f",
             "gridcolor": "white",
             "linecolor": "white",
             "minorgridcolor": "white",
             "startlinecolor": "#2a3f5f"
            },
            "baxis": {
             "endlinecolor": "#2a3f5f",
             "gridcolor": "white",
             "linecolor": "white",
             "minorgridcolor": "white",
             "startlinecolor": "#2a3f5f"
            },
            "type": "carpet"
           }
          ],
          "choropleth": [
           {
            "colorbar": {
             "outlinewidth": 0,
             "ticks": ""
            },
            "type": "choropleth"
           }
          ],
          "contour": [
           {
            "colorbar": {
             "outlinewidth": 0,
             "ticks": ""
            },
            "colorscale": [
             [
              0,
              "#0d0887"
             ],
             [
              0.1111111111111111,
              "#46039f"
             ],
             [
              0.2222222222222222,
              "#7201a8"
             ],
             [
              0.3333333333333333,
              "#9c179e"
             ],
             [
              0.4444444444444444,
              "#bd3786"
             ],
             [
              0.5555555555555556,
              "#d8576b"
             ],
             [
              0.6666666666666666,
              "#ed7953"
             ],
             [
              0.7777777777777778,
              "#fb9f3a"
             ],
             [
              0.8888888888888888,
              "#fdca26"
             ],
             [
              1,
              "#f0f921"
             ]
            ],
            "type": "contour"
           }
          ],
          "contourcarpet": [
           {
            "colorbar": {
             "outlinewidth": 0,
             "ticks": ""
            },
            "type": "contourcarpet"
           }
          ],
          "heatmap": [
           {
            "colorbar": {
             "outlinewidth": 0,
             "ticks": ""
            },
            "colorscale": [
             [
              0,
              "#0d0887"
             ],
             [
              0.1111111111111111,
              "#46039f"
             ],
             [
              0.2222222222222222,
              "#7201a8"
             ],
             [
              0.3333333333333333,
              "#9c179e"
             ],
             [
              0.4444444444444444,
              "#bd3786"
             ],
             [
              0.5555555555555556,
              "#d8576b"
             ],
             [
              0.6666666666666666,
              "#ed7953"
             ],
             [
              0.7777777777777778,
              "#fb9f3a"
             ],
             [
              0.8888888888888888,
              "#fdca26"
             ],
             [
              1,
              "#f0f921"
             ]
            ],
            "type": "heatmap"
           }
          ],
          "heatmapgl": [
           {
            "colorbar": {
             "outlinewidth": 0,
             "ticks": ""
            },
            "colorscale": [
             [
              0,
              "#0d0887"
             ],
             [
              0.1111111111111111,
              "#46039f"
             ],
             [
              0.2222222222222222,
              "#7201a8"
             ],
             [
              0.3333333333333333,
              "#9c179e"
             ],
             [
              0.4444444444444444,
              "#bd3786"
             ],
             [
              0.5555555555555556,
              "#d8576b"
             ],
             [
              0.6666666666666666,
              "#ed7953"
             ],
             [
              0.7777777777777778,
              "#fb9f3a"
             ],
             [
              0.8888888888888888,
              "#fdca26"
             ],
             [
              1,
              "#f0f921"
             ]
            ],
            "type": "heatmapgl"
           }
          ],
          "histogram": [
           {
            "marker": {
             "pattern": {
              "fillmode": "overlay",
              "size": 10,
              "solidity": 0.2
             }
            },
            "type": "histogram"
           }
          ],
          "histogram2d": [
           {
            "colorbar": {
             "outlinewidth": 0,
             "ticks": ""
            },
            "colorscale": [
             [
              0,
              "#0d0887"
             ],
             [
              0.1111111111111111,
              "#46039f"
             ],
             [
              0.2222222222222222,
              "#7201a8"
             ],
             [
              0.3333333333333333,
              "#9c179e"
             ],
             [
              0.4444444444444444,
              "#bd3786"
             ],
             [
              0.5555555555555556,
              "#d8576b"
             ],
             [
              0.6666666666666666,
              "#ed7953"
             ],
             [
              0.7777777777777778,
              "#fb9f3a"
             ],
             [
              0.8888888888888888,
              "#fdca26"
             ],
             [
              1,
              "#f0f921"
             ]
            ],
            "type": "histogram2d"
           }
          ],
          "histogram2dcontour": [
           {
            "colorbar": {
             "outlinewidth": 0,
             "ticks": ""
            },
            "colorscale": [
             [
              0,
              "#0d0887"
             ],
             [
              0.1111111111111111,
              "#46039f"
             ],
             [
              0.2222222222222222,
              "#7201a8"
             ],
             [
              0.3333333333333333,
              "#9c179e"
             ],
             [
              0.4444444444444444,
              "#bd3786"
             ],
             [
              0.5555555555555556,
              "#d8576b"
             ],
             [
              0.6666666666666666,
              "#ed7953"
             ],
             [
              0.7777777777777778,
              "#fb9f3a"
             ],
             [
              0.8888888888888888,
              "#fdca26"
             ],
             [
              1,
              "#f0f921"
             ]
            ],
            "type": "histogram2dcontour"
           }
          ],
          "mesh3d": [
           {
            "colorbar": {
             "outlinewidth": 0,
             "ticks": ""
            },
            "type": "mesh3d"
           }
          ],
          "parcoords": [
           {
            "line": {
             "colorbar": {
              "outlinewidth": 0,
              "ticks": ""
             }
            },
            "type": "parcoords"
           }
          ],
          "pie": [
           {
            "automargin": true,
            "type": "pie"
           }
          ],
          "scatter": [
           {
            "fillpattern": {
             "fillmode": "overlay",
             "size": 10,
             "solidity": 0.2
            },
            "type": "scatter"
           }
          ],
          "scatter3d": [
           {
            "line": {
             "colorbar": {
              "outlinewidth": 0,
              "ticks": ""
             }
            },
            "marker": {
             "colorbar": {
              "outlinewidth": 0,
              "ticks": ""
             }
            },
            "type": "scatter3d"
           }
          ],
          "scattercarpet": [
           {
            "marker": {
             "colorbar": {
              "outlinewidth": 0,
              "ticks": ""
             }
            },
            "type": "scattercarpet"
           }
          ],
          "scattergeo": [
           {
            "marker": {
             "colorbar": {
              "outlinewidth": 0,
              "ticks": ""
             }
            },
            "type": "scattergeo"
           }
          ],
          "scattergl": [
           {
            "marker": {
             "colorbar": {
              "outlinewidth": 0,
              "ticks": ""
             }
            },
            "type": "scattergl"
           }
          ],
          "scattermapbox": [
           {
            "marker": {
             "colorbar": {
              "outlinewidth": 0,
              "ticks": ""
             }
            },
            "type": "scattermapbox"
           }
          ],
          "scatterpolar": [
           {
            "marker": {
             "colorbar": {
              "outlinewidth": 0,
              "ticks": ""
             }
            },
            "type": "scatterpolar"
           }
          ],
          "scatterpolargl": [
           {
            "marker": {
             "colorbar": {
              "outlinewidth": 0,
              "ticks": ""
             }
            },
            "type": "scatterpolargl"
           }
          ],
          "scatterternary": [
           {
            "marker": {
             "colorbar": {
              "outlinewidth": 0,
              "ticks": ""
             }
            },
            "type": "scatterternary"
           }
          ],
          "surface": [
           {
            "colorbar": {
             "outlinewidth": 0,
             "ticks": ""
            },
            "colorscale": [
             [
              0,
              "#0d0887"
             ],
             [
              0.1111111111111111,
              "#46039f"
             ],
             [
              0.2222222222222222,
              "#7201a8"
             ],
             [
              0.3333333333333333,
              "#9c179e"
             ],
             [
              0.4444444444444444,
              "#bd3786"
             ],
             [
              0.5555555555555556,
              "#d8576b"
             ],
             [
              0.6666666666666666,
              "#ed7953"
             ],
             [
              0.7777777777777778,
              "#fb9f3a"
             ],
             [
              0.8888888888888888,
              "#fdca26"
             ],
             [
              1,
              "#f0f921"
             ]
            ],
            "type": "surface"
           }
          ],
          "table": [
           {
            "cells": {
             "fill": {
              "color": "#EBF0F8"
             },
             "line": {
              "color": "white"
             }
            },
            "header": {
             "fill": {
              "color": "#C8D4E3"
             },
             "line": {
              "color": "white"
             }
            },
            "type": "table"
           }
          ]
         },
         "layout": {
          "annotationdefaults": {
           "arrowcolor": "#2a3f5f",
           "arrowhead": 0,
           "arrowwidth": 1
          },
          "autotypenumbers": "strict",
          "coloraxis": {
           "colorbar": {
            "outlinewidth": 0,
            "ticks": ""
           }
          },
          "colorscale": {
           "diverging": [
            [
             0,
             "#8e0152"
            ],
            [
             0.1,
             "#c51b7d"
            ],
            [
             0.2,
             "#de77ae"
            ],
            [
             0.3,
             "#f1b6da"
            ],
            [
             0.4,
             "#fde0ef"
            ],
            [
             0.5,
             "#f7f7f7"
            ],
            [
             0.6,
             "#e6f5d0"
            ],
            [
             0.7,
             "#b8e186"
            ],
            [
             0.8,
             "#7fbc41"
            ],
            [
             0.9,
             "#4d9221"
            ],
            [
             1,
             "#276419"
            ]
           ],
           "sequential": [
            [
             0,
             "#0d0887"
            ],
            [
             0.1111111111111111,
             "#46039f"
            ],
            [
             0.2222222222222222,
             "#7201a8"
            ],
            [
             0.3333333333333333,
             "#9c179e"
            ],
            [
             0.4444444444444444,
             "#bd3786"
            ],
            [
             0.5555555555555556,
             "#d8576b"
            ],
            [
             0.6666666666666666,
             "#ed7953"
            ],
            [
             0.7777777777777778,
             "#fb9f3a"
            ],
            [
             0.8888888888888888,
             "#fdca26"
            ],
            [
             1,
             "#f0f921"
            ]
           ],
           "sequentialminus": [
            [
             0,
             "#0d0887"
            ],
            [
             0.1111111111111111,
             "#46039f"
            ],
            [
             0.2222222222222222,
             "#7201a8"
            ],
            [
             0.3333333333333333,
             "#9c179e"
            ],
            [
             0.4444444444444444,
             "#bd3786"
            ],
            [
             0.5555555555555556,
             "#d8576b"
            ],
            [
             0.6666666666666666,
             "#ed7953"
            ],
            [
             0.7777777777777778,
             "#fb9f3a"
            ],
            [
             0.8888888888888888,
             "#fdca26"
            ],
            [
             1,
             "#f0f921"
            ]
           ]
          },
          "colorway": [
           "#636efa",
           "#EF553B",
           "#00cc96",
           "#ab63fa",
           "#FFA15A",
           "#19d3f3",
           "#FF6692",
           "#B6E880",
           "#FF97FF",
           "#FECB52"
          ],
          "font": {
           "color": "#2a3f5f"
          },
          "geo": {
           "bgcolor": "white",
           "lakecolor": "white",
           "landcolor": "#E5ECF6",
           "showlakes": true,
           "showland": true,
           "subunitcolor": "white"
          },
          "hoverlabel": {
           "align": "left"
          },
          "hovermode": "closest",
          "mapbox": {
           "style": "light"
          },
          "paper_bgcolor": "white",
          "plot_bgcolor": "#E5ECF6",
          "polar": {
           "angularaxis": {
            "gridcolor": "white",
            "linecolor": "white",
            "ticks": ""
           },
           "bgcolor": "#E5ECF6",
           "radialaxis": {
            "gridcolor": "white",
            "linecolor": "white",
            "ticks": ""
           }
          },
          "scene": {
           "xaxis": {
            "backgroundcolor": "#E5ECF6",
            "gridcolor": "white",
            "gridwidth": 2,
            "linecolor": "white",
            "showbackground": true,
            "ticks": "",
            "zerolinecolor": "white"
           },
           "yaxis": {
            "backgroundcolor": "#E5ECF6",
            "gridcolor": "white",
            "gridwidth": 2,
            "linecolor": "white",
            "showbackground": true,
            "ticks": "",
            "zerolinecolor": "white"
           },
           "zaxis": {
            "backgroundcolor": "#E5ECF6",
            "gridcolor": "white",
            "gridwidth": 2,
            "linecolor": "white",
            "showbackground": true,
            "ticks": "",
            "zerolinecolor": "white"
           }
          },
          "shapedefaults": {
           "line": {
            "color": "#2a3f5f"
           }
          },
          "ternary": {
           "aaxis": {
            "gridcolor": "white",
            "linecolor": "white",
            "ticks": ""
           },
           "baxis": {
            "gridcolor": "white",
            "linecolor": "white",
            "ticks": ""
           },
           "bgcolor": "#E5ECF6",
           "caxis": {
            "gridcolor": "white",
            "linecolor": "white",
            "ticks": ""
           }
          },
          "title": {
           "x": 0.05
          },
          "xaxis": {
           "automargin": true,
           "gridcolor": "white",
           "linecolor": "white",
           "ticks": "",
           "title": {
            "standoff": 15
           },
           "zerolinecolor": "white",
           "zerolinewidth": 2
          },
          "yaxis": {
           "automargin": true,
           "gridcolor": "white",
           "linecolor": "white",
           "ticks": "",
           "title": {
            "standoff": 15
           },
           "zerolinecolor": "white",
           "zerolinewidth": 2
          }
         }
        },
        "title": {
         "text": "pool_size_over_time"
        },
        "xaxis": {
         "anchor": "y",
         "domain": [
          0,
          1
         ],
         "title": {
          "text": "x"
         }
        },
        "yaxis": {
         "anchor": "x",
         "domain": [
          0,
          1
         ],
         "title": {
          "text": "y"
         }
        }
       }
      }
     },
     "metadata": {},
     "output_type": "display_data"
    }
   ],
   "source": [
    "fig = px.line(x=date_list, y=forecast_linear, title='pool_size_over_time')\n",
    "fig.show()"
   ]
  },
  {
   "cell_type": "code",
   "execution_count": 115,
   "id": "cbd25ee6",
   "metadata": {},
   "outputs": [
    {
     "data": {
      "application/vnd.plotly.v1+json": {
       "config": {
        "plotlyServerURL": "https://plot.ly"
       },
       "data": [
        {
         "hovertemplate": "x=%{x}<br>y=%{y}<extra></extra>",
         "legendgroup": "",
         "line": {
          "color": "#636efa",
          "dash": "solid"
         },
         "marker": {
          "symbol": "circle"
         },
         "mode": "lines",
         "name": "",
         "orientation": "v",
         "showlegend": false,
         "type": "scatter",
         "x": [
          "2025-01-01T00:00:00",
          "2025-01-02T00:00:00",
          "2025-01-03T00:00:00",
          "2025-01-04T00:00:00",
          "2025-01-05T00:00:00",
          "2025-01-06T00:00:00",
          "2025-01-07T00:00:00",
          "2025-01-08T00:00:00",
          "2025-01-09T00:00:00",
          "2025-01-10T00:00:00",
          "2025-01-11T00:00:00",
          "2025-01-12T00:00:00",
          "2025-01-13T00:00:00",
          "2025-01-14T00:00:00",
          "2025-01-15T00:00:00",
          "2025-01-16T00:00:00",
          "2025-01-17T00:00:00",
          "2025-01-18T00:00:00",
          "2025-01-19T00:00:00",
          "2025-01-20T00:00:00",
          "2025-01-21T00:00:00",
          "2025-01-22T00:00:00",
          "2025-01-23T00:00:00",
          "2025-01-24T00:00:00",
          "2025-01-25T00:00:00",
          "2025-01-26T00:00:00",
          "2025-01-27T00:00:00",
          "2025-01-28T00:00:00",
          "2025-01-29T00:00:00",
          "2025-01-30T00:00:00",
          "2025-01-31T00:00:00",
          "2025-02-01T00:00:00",
          "2025-02-02T00:00:00",
          "2025-02-03T00:00:00",
          "2025-02-04T00:00:00",
          "2025-02-05T00:00:00",
          "2025-02-06T00:00:00",
          "2025-02-07T00:00:00",
          "2025-02-08T00:00:00",
          "2025-02-09T00:00:00",
          "2025-02-10T00:00:00",
          "2025-02-11T00:00:00",
          "2025-02-12T00:00:00",
          "2025-02-13T00:00:00",
          "2025-02-14T00:00:00",
          "2025-02-15T00:00:00",
          "2025-02-16T00:00:00",
          "2025-02-17T00:00:00",
          "2025-02-18T00:00:00",
          "2025-02-19T00:00:00",
          "2025-02-20T00:00:00",
          "2025-02-21T00:00:00",
          "2025-02-22T00:00:00",
          "2025-02-23T00:00:00",
          "2025-02-24T00:00:00",
          "2025-02-25T00:00:00",
          "2025-02-26T00:00:00",
          "2025-02-27T00:00:00",
          "2025-02-28T00:00:00",
          "2025-03-01T00:00:00",
          "2025-03-02T00:00:00",
          "2025-03-03T00:00:00",
          "2025-03-04T00:00:00",
          "2025-03-05T00:00:00",
          "2025-03-06T00:00:00",
          "2025-03-07T00:00:00",
          "2025-03-08T00:00:00",
          "2025-03-09T00:00:00",
          "2025-03-10T00:00:00",
          "2025-03-11T00:00:00",
          "2025-03-12T00:00:00",
          "2025-03-13T00:00:00",
          "2025-03-14T00:00:00",
          "2025-03-15T00:00:00",
          "2025-03-16T00:00:00",
          "2025-03-17T00:00:00",
          "2025-03-18T00:00:00",
          "2025-03-19T00:00:00",
          "2025-03-20T00:00:00",
          "2025-03-21T00:00:00",
          "2025-03-22T00:00:00",
          "2025-03-23T00:00:00",
          "2025-03-24T00:00:00",
          "2025-03-25T00:00:00",
          "2025-03-26T00:00:00",
          "2025-03-27T00:00:00",
          "2025-03-28T00:00:00",
          "2025-03-29T00:00:00",
          "2025-03-30T00:00:00",
          "2025-03-31T00:00:00",
          "2025-04-01T00:00:00",
          "2025-04-02T00:00:00",
          "2025-04-03T00:00:00",
          "2025-04-04T00:00:00",
          "2025-04-05T00:00:00",
          "2025-04-06T00:00:00",
          "2025-04-07T00:00:00",
          "2025-04-08T00:00:00",
          "2025-04-09T00:00:00",
          "2025-04-10T00:00:00",
          "2025-04-11T00:00:00",
          "2025-04-12T00:00:00",
          "2025-04-13T00:00:00",
          "2025-04-14T00:00:00",
          "2025-04-15T00:00:00",
          "2025-04-16T00:00:00",
          "2025-04-17T00:00:00",
          "2025-04-18T00:00:00",
          "2025-04-19T00:00:00",
          "2025-04-20T00:00:00",
          "2025-04-21T00:00:00",
          "2025-04-22T00:00:00",
          "2025-04-23T00:00:00",
          "2025-04-24T00:00:00",
          "2025-04-25T00:00:00",
          "2025-04-26T00:00:00",
          "2025-04-27T00:00:00",
          "2025-04-28T00:00:00",
          "2025-04-29T00:00:00",
          "2025-04-30T00:00:00",
          "2025-05-01T00:00:00",
          "2025-05-02T00:00:00",
          "2025-05-03T00:00:00",
          "2025-05-04T00:00:00",
          "2025-05-05T00:00:00",
          "2025-05-06T00:00:00",
          "2025-05-07T00:00:00",
          "2025-05-08T00:00:00",
          "2025-05-09T00:00:00",
          "2025-05-10T00:00:00",
          "2025-05-11T00:00:00",
          "2025-05-12T00:00:00",
          "2025-05-13T00:00:00",
          "2025-05-14T00:00:00",
          "2025-05-15T00:00:00",
          "2025-05-16T00:00:00",
          "2025-05-17T00:00:00",
          "2025-05-18T00:00:00",
          "2025-05-19T00:00:00",
          "2025-05-20T00:00:00",
          "2025-05-21T00:00:00",
          "2025-05-22T00:00:00",
          "2025-05-23T00:00:00",
          "2025-05-24T00:00:00",
          "2025-05-25T00:00:00",
          "2025-05-26T00:00:00",
          "2025-05-27T00:00:00",
          "2025-05-28T00:00:00",
          "2025-05-29T00:00:00",
          "2025-05-30T00:00:00",
          "2025-05-31T00:00:00",
          "2025-06-01T00:00:00",
          "2025-06-02T00:00:00",
          "2025-06-03T00:00:00",
          "2025-06-04T00:00:00",
          "2025-06-05T00:00:00",
          "2025-06-06T00:00:00",
          "2025-06-07T00:00:00",
          "2025-06-08T00:00:00",
          "2025-06-09T00:00:00",
          "2025-06-10T00:00:00",
          "2025-06-11T00:00:00",
          "2025-06-12T00:00:00",
          "2025-06-13T00:00:00",
          "2025-06-14T00:00:00",
          "2025-06-15T00:00:00",
          "2025-06-16T00:00:00",
          "2025-06-17T00:00:00",
          "2025-06-18T00:00:00",
          "2025-06-19T00:00:00",
          "2025-06-20T00:00:00",
          "2025-06-21T00:00:00",
          "2025-06-22T00:00:00",
          "2025-06-23T00:00:00",
          "2025-06-24T00:00:00",
          "2025-06-25T00:00:00",
          "2025-06-26T00:00:00",
          "2025-06-27T00:00:00",
          "2025-06-28T00:00:00",
          "2025-06-29T00:00:00",
          "2025-06-30T00:00:00",
          "2025-07-01T00:00:00",
          "2025-07-02T00:00:00",
          "2025-07-03T00:00:00",
          "2025-07-04T00:00:00",
          "2025-07-05T00:00:00",
          "2025-07-06T00:00:00",
          "2025-07-07T00:00:00",
          "2025-07-08T00:00:00",
          "2025-07-09T00:00:00",
          "2025-07-10T00:00:00",
          "2025-07-11T00:00:00",
          "2025-07-12T00:00:00",
          "2025-07-13T00:00:00",
          "2025-07-14T00:00:00",
          "2025-07-15T00:00:00",
          "2025-07-16T00:00:00",
          "2025-07-17T00:00:00",
          "2025-07-18T00:00:00",
          "2025-07-19T00:00:00",
          "2025-07-20T00:00:00",
          "2025-07-21T00:00:00",
          "2025-07-22T00:00:00",
          "2025-07-23T00:00:00",
          "2025-07-24T00:00:00",
          "2025-07-25T00:00:00",
          "2025-07-26T00:00:00",
          "2025-07-27T00:00:00",
          "2025-07-28T00:00:00",
          "2025-07-29T00:00:00",
          "2025-07-30T00:00:00",
          "2025-07-31T00:00:00",
          "2025-08-01T00:00:00",
          "2025-08-02T00:00:00",
          "2025-08-03T00:00:00",
          "2025-08-04T00:00:00",
          "2025-08-05T00:00:00",
          "2025-08-06T00:00:00",
          "2025-08-07T00:00:00",
          "2025-08-08T00:00:00",
          "2025-08-09T00:00:00",
          "2025-08-10T00:00:00",
          "2025-08-11T00:00:00",
          "2025-08-12T00:00:00",
          "2025-08-13T00:00:00",
          "2025-08-14T00:00:00",
          "2025-08-15T00:00:00",
          "2025-08-16T00:00:00",
          "2025-08-17T00:00:00",
          "2025-08-18T00:00:00",
          "2025-08-19T00:00:00",
          "2025-08-20T00:00:00",
          "2025-08-21T00:00:00",
          "2025-08-22T00:00:00",
          "2025-08-23T00:00:00",
          "2025-08-24T00:00:00",
          "2025-08-25T00:00:00",
          "2025-08-26T00:00:00",
          "2025-08-27T00:00:00",
          "2025-08-28T00:00:00",
          "2025-08-29T00:00:00",
          "2025-08-30T00:00:00",
          "2025-08-31T00:00:00",
          "2025-09-01T00:00:00",
          "2025-09-02T00:00:00",
          "2025-09-03T00:00:00",
          "2025-09-04T00:00:00",
          "2025-09-05T00:00:00",
          "2025-09-06T00:00:00",
          "2025-09-07T00:00:00",
          "2025-09-08T00:00:00",
          "2025-09-09T00:00:00",
          "2025-09-10T00:00:00",
          "2025-09-11T00:00:00",
          "2025-09-12T00:00:00",
          "2025-09-13T00:00:00",
          "2025-09-14T00:00:00",
          "2025-09-15T00:00:00",
          "2025-09-16T00:00:00",
          "2025-09-17T00:00:00",
          "2025-09-18T00:00:00",
          "2025-09-19T00:00:00",
          "2025-09-20T00:00:00",
          "2025-09-21T00:00:00",
          "2025-09-22T00:00:00",
          "2025-09-23T00:00:00",
          "2025-09-24T00:00:00",
          "2025-09-25T00:00:00",
          "2025-09-26T00:00:00",
          "2025-09-27T00:00:00",
          "2025-09-28T00:00:00",
          "2025-09-29T00:00:00",
          "2025-09-30T00:00:00",
          "2025-10-01T00:00:00",
          "2025-10-02T00:00:00",
          "2025-10-03T00:00:00",
          "2025-10-04T00:00:00",
          "2025-10-05T00:00:00",
          "2025-10-06T00:00:00",
          "2025-10-07T00:00:00",
          "2025-10-08T00:00:00",
          "2025-10-09T00:00:00",
          "2025-10-10T00:00:00",
          "2025-10-11T00:00:00",
          "2025-10-12T00:00:00",
          "2025-10-13T00:00:00",
          "2025-10-14T00:00:00",
          "2025-10-15T00:00:00",
          "2025-10-16T00:00:00",
          "2025-10-17T00:00:00",
          "2025-10-18T00:00:00",
          "2025-10-19T00:00:00",
          "2025-10-20T00:00:00",
          "2025-10-21T00:00:00",
          "2025-10-22T00:00:00",
          "2025-10-23T00:00:00",
          "2025-10-24T00:00:00",
          "2025-10-25T00:00:00",
          "2025-10-26T00:00:00",
          "2025-10-27T00:00:00",
          "2025-10-28T00:00:00",
          "2025-10-29T00:00:00",
          "2025-10-30T00:00:00",
          "2025-10-31T00:00:00",
          "2025-11-01T00:00:00",
          "2025-11-02T00:00:00",
          "2025-11-03T00:00:00",
          "2025-11-04T00:00:00",
          "2025-11-05T00:00:00",
          "2025-11-06T00:00:00",
          "2025-11-07T00:00:00",
          "2025-11-08T00:00:00",
          "2025-11-09T00:00:00",
          "2025-11-10T00:00:00",
          "2025-11-11T00:00:00",
          "2025-11-12T00:00:00",
          "2025-11-13T00:00:00",
          "2025-11-14T00:00:00",
          "2025-11-15T00:00:00",
          "2025-11-16T00:00:00",
          "2025-11-17T00:00:00",
          "2025-11-18T00:00:00",
          "2025-11-19T00:00:00",
          "2025-11-20T00:00:00",
          "2025-11-21T00:00:00",
          "2025-11-22T00:00:00",
          "2025-11-23T00:00:00",
          "2025-11-24T00:00:00",
          "2025-11-25T00:00:00",
          "2025-11-26T00:00:00",
          "2025-11-27T00:00:00",
          "2025-11-28T00:00:00",
          "2025-11-29T00:00:00",
          "2025-11-30T00:00:00",
          "2025-12-01T00:00:00",
          "2025-12-02T00:00:00",
          "2025-12-03T00:00:00",
          "2025-12-04T00:00:00",
          "2025-12-05T00:00:00",
          "2025-12-06T00:00:00",
          "2025-12-07T00:00:00",
          "2025-12-08T00:00:00",
          "2025-12-09T00:00:00",
          "2025-12-10T00:00:00",
          "2025-12-11T00:00:00",
          "2025-12-12T00:00:00",
          "2025-12-13T00:00:00",
          "2025-12-14T00:00:00",
          "2025-12-15T00:00:00",
          "2025-12-16T00:00:00",
          "2025-12-17T00:00:00",
          "2025-12-18T00:00:00",
          "2025-12-19T00:00:00",
          "2025-12-20T00:00:00",
          "2025-12-21T00:00:00",
          "2025-12-22T00:00:00",
          "2025-12-23T00:00:00",
          "2025-12-24T00:00:00",
          "2025-12-25T00:00:00",
          "2025-12-26T00:00:00",
          "2025-12-27T00:00:00",
          "2025-12-28T00:00:00",
          "2025-12-29T00:00:00",
          "2025-12-30T00:00:00",
          "2025-12-31T00:00:00"
         ],
         "xaxis": "x",
         "y": [
          99994.296875,
          99982.2734375,
          99986.34375,
          99986.3671875,
          99987.1484375,
          99993.3359375,
          99984.8046875,
          99962.6875,
          99960.1640625,
          99943.4609375,
          99924.640625,
          99890.515625,
          99829.9296875,
          99802.5,
          99777.7734375,
          99751.3828125,
          99716.8671875,
          99676.75,
          99642.25,
          99606.5546875,
          99566.96875,
          99544.9375,
          99532.5,
          99507.84375,
          99444.6484375,
          99376.328125,
          99320.453125,
          99301.140625,
          99275.578125,
          99263.8203125,
          99251.671875,
          99013.84375,
          98996.9453125,
          99005.421875,
          98988.046875,
          98962.3359375,
          98931.8359375,
          98898.3671875,
          98828.0390625,
          98800.046875,
          98794.6328125,
          98734.59375,
          98678.6484375,
          98641.921875,
          98558.96875,
          98504.1640625,
          98474.859375,
          98326.7734375,
          98277.3828125,
          98351.828125,
          98312.578125,
          98242.7109375,
          98183.8359375,
          98157.21875,
          98276.796875,
          98187.515625,
          98100.03125,
          98032.8046875,
          98039.1171875,
          97828.7109375,
          97778.1015625,
          97539.8046875,
          97703.484375,
          97687.6484375,
          97650.4375,
          97506,
          97541.265625,
          97498.828125,
          97447.359375,
          97412.90625,
          97370.296875,
          97330.8203125,
          97277.0234375,
          97228.140625,
          97184.0390625,
          97136.0234375,
          97095.21875,
          97055.53125,
          97016.578125,
          96980.8828125,
          96919.390625,
          96867.5234375,
          96820.046875,
          96798.65625,
          96738.484375,
          96727.5,
          96645.5390625,
          96604.046875,
          96553.734375,
          96703.796875,
          96470.484375,
          96423.7890625,
          96389.9921875,
          96318.2421875,
          96291.8125,
          96240.5,
          96194.6953125,
          96146.03125,
          96100.6328125,
          96061.1796875,
          96006.8203125,
          95976.953125,
          95938.1640625,
          95895.21875,
          95863.8515625,
          95785.890625,
          95750.046875,
          95719.2265625,
          95680.375,
          95625.0234375,
          95580.7890625,
          95529.7421875,
          95497.4609375,
          95462.046875,
          95384.7421875,
          95357.3203125,
          95309.078125,
          95250.3984375,
          95210.9296875,
          95183.8359375,
          95130.4140625,
          95073.234375,
          95023.4375,
          94976.8671875,
          94933.2421875,
          94874.515625,
          94827.5,
          94798.3203125,
          94744.8828125,
          94696.6796875,
          94661.3125,
          94608.140625,
          94549.7421875,
          94498.296875,
          94458.3671875,
          94407.828125,
          94363.8671875,
          94319.890625,
          94277.1640625,
          94228.3125,
          94183.78125,
          94138.5859375,
          94080.4140625,
          94032.7890625,
          93994.5703125,
          93955.3671875,
          93884.375,
          93871.15625,
          93861.5,
          93768.1328125,
          93756.4140625,
          93647.515625,
          93609.5859375,
          93547.375,
          93531.4140625,
          93481.578125,
          93388.1640625,
          93391.46875,
          93340.1640625,
          93294.46875,
          93245.6328125,
          93228.125,
          93178.8828125,
          93115.28125,
          93068.296875,
          93039.1796875,
          93069.5546875,
          92969.34375,
          92984.5078125,
          92868.46875,
          92831.1171875,
          92753.125,
          92721.6640625,
          92687.828125,
          92643.2890625,
          92626,
          92594.5,
          92551.4375,
          92456.875,
          92427.109375,
          92528.8125,
          92328,
          92320.21875,
          92281.9375,
          92234.671875,
          92200.1953125,
          92106.265625,
          92058.1640625,
          92077.65625,
          91999.8828125,
          91944.0625,
          91903.8359375,
          91885.9453125,
          91829.3984375,
          91765.609375,
          91721.171875,
          91730.84375,
          91608.2578125,
          91603.21875,
          91538.59375,
          91487.6796875,
          91510.015625,
          91439.078125,
          91373.1875,
          91338.7421875,
          91317.3984375,
          91251.6640625,
          91207.59375,
          91182.671875,
          91137.1171875,
          91084.3984375,
          91052.1875,
          90788.078125,
          90760.7890625,
          90601.765625,
          90619.4296875,
          90521.3359375,
          90448.171875,
          90373.734375,
          90329.5234375,
          90294.7421875,
          90258.890625,
          90188.90625,
          90145.65625,
          90126.5859375,
          90077.2890625,
          90016.046875,
          89993.9921875,
          89946.53125,
          89872.7734375,
          89825.515625,
          89801.0703125,
          89744.921875,
          89692.6640625,
          89652.609375,
          89621.859375,
          89563.9765625,
          89544.9609375,
          89508.859375,
          89419.6171875,
          89381.9921875,
          89328.828125,
          89294.2890625,
          89293.0625,
          89278.84375,
          89236.3671875,
          89231.5390625,
          89214.75,
          89233.0390625,
          89158.671875,
          89168.234375,
          89150.828125,
          89067.828125,
          89032.40625,
          88997.703125,
          88960.3828125,
          88927.4296875,
          88886.5234375,
          88881.6875,
          88828.2265625,
          88790.421875,
          88754.6484375,
          88695.6328125,
          88664.8671875,
          88607.328125,
          88599.1953125,
          88556.8359375,
          88486.3359375,
          88457.359375,
          88415.8984375,
          88376.8984375,
          88324.46875,
          88267.4765625,
          88255.71875,
          88217.6015625,
          88158.5,
          88096.5703125,
          88059.5078125,
          88008.53125,
          87966.296875,
          87936.0546875,
          87887.4375,
          87853.0546875,
          87810.7421875,
          87771.5390625,
          87715.8984375,
          87669.6875,
          87628.7421875,
          87567.1171875,
          87515.5546875,
          87452.6328125,
          87409.6953125,
          87248.1171875,
          87313.8515625,
          87260.4453125,
          87217.0390625,
          87157.03125,
          87142.703125,
          87086.296875,
          87088.1953125,
          86981.7890625,
          86949.328125,
          86908.9609375,
          86856.6796875,
          86793.9453125,
          86778.828125,
          86704.484375,
          86647.640625,
          86589.640625,
          86556.5234375,
          86525.46875,
          86497.421875,
          86433.578125,
          86383.53125,
          86334.015625,
          86294.9375,
          86274.65625,
          86224.7578125,
          86168.5625,
          86136.4375,
          86101.9921875,
          86021.921875,
          86002.65625,
          85946.390625,
          85901.4296875,
          85866.21875,
          85829.546875,
          85636.703125,
          85740.7578125,
          85701.9375,
          85659.0859375,
          85607.40625,
          85567.2734375,
          85565.7265625,
          85240.0234375,
          85155.7421875,
          85103.2265625,
          85042.7421875,
          84994.359375,
          84954.6875,
          84911.9140625,
          84865.8828125,
          84809.8203125,
          84777.6015625,
          84733.84375,
          84683.46875,
          84643.4375,
          84608.265625,
          84560.171875,
          84493.390625,
          84467.9296875,
          84417.703125,
          84364.9921875,
          84316.8125,
          84268.9921875,
          84207.734375,
          84206.7578125,
          84167.296875,
          84105.484375,
          84083.5625,
          84011.6640625,
          83965.453125,
          83935.3203125,
          83887.3515625,
          83869.328125
         ],
         "yaxis": "y"
        }
       ],
       "layout": {
        "legend": {
         "tracegroupgap": 0
        },
        "template": {
         "data": {
          "bar": [
           {
            "error_x": {
             "color": "#2a3f5f"
            },
            "error_y": {
             "color": "#2a3f5f"
            },
            "marker": {
             "line": {
              "color": "#E5ECF6",
              "width": 0.5
             },
             "pattern": {
              "fillmode": "overlay",
              "size": 10,
              "solidity": 0.2
             }
            },
            "type": "bar"
           }
          ],
          "barpolar": [
           {
            "marker": {
             "line": {
              "color": "#E5ECF6",
              "width": 0.5
             },
             "pattern": {
              "fillmode": "overlay",
              "size": 10,
              "solidity": 0.2
             }
            },
            "type": "barpolar"
           }
          ],
          "carpet": [
           {
            "aaxis": {
             "endlinecolor": "#2a3f5f",
             "gridcolor": "white",
             "linecolor": "white",
             "minorgridcolor": "white",
             "startlinecolor": "#2a3f5f"
            },
            "baxis": {
             "endlinecolor": "#2a3f5f",
             "gridcolor": "white",
             "linecolor": "white",
             "minorgridcolor": "white",
             "startlinecolor": "#2a3f5f"
            },
            "type": "carpet"
           }
          ],
          "choropleth": [
           {
            "colorbar": {
             "outlinewidth": 0,
             "ticks": ""
            },
            "type": "choropleth"
           }
          ],
          "contour": [
           {
            "colorbar": {
             "outlinewidth": 0,
             "ticks": ""
            },
            "colorscale": [
             [
              0,
              "#0d0887"
             ],
             [
              0.1111111111111111,
              "#46039f"
             ],
             [
              0.2222222222222222,
              "#7201a8"
             ],
             [
              0.3333333333333333,
              "#9c179e"
             ],
             [
              0.4444444444444444,
              "#bd3786"
             ],
             [
              0.5555555555555556,
              "#d8576b"
             ],
             [
              0.6666666666666666,
              "#ed7953"
             ],
             [
              0.7777777777777778,
              "#fb9f3a"
             ],
             [
              0.8888888888888888,
              "#fdca26"
             ],
             [
              1,
              "#f0f921"
             ]
            ],
            "type": "contour"
           }
          ],
          "contourcarpet": [
           {
            "colorbar": {
             "outlinewidth": 0,
             "ticks": ""
            },
            "type": "contourcarpet"
           }
          ],
          "heatmap": [
           {
            "colorbar": {
             "outlinewidth": 0,
             "ticks": ""
            },
            "colorscale": [
             [
              0,
              "#0d0887"
             ],
             [
              0.1111111111111111,
              "#46039f"
             ],
             [
              0.2222222222222222,
              "#7201a8"
             ],
             [
              0.3333333333333333,
              "#9c179e"
             ],
             [
              0.4444444444444444,
              "#bd3786"
             ],
             [
              0.5555555555555556,
              "#d8576b"
             ],
             [
              0.6666666666666666,
              "#ed7953"
             ],
             [
              0.7777777777777778,
              "#fb9f3a"
             ],
             [
              0.8888888888888888,
              "#fdca26"
             ],
             [
              1,
              "#f0f921"
             ]
            ],
            "type": "heatmap"
           }
          ],
          "heatmapgl": [
           {
            "colorbar": {
             "outlinewidth": 0,
             "ticks": ""
            },
            "colorscale": [
             [
              0,
              "#0d0887"
             ],
             [
              0.1111111111111111,
              "#46039f"
             ],
             [
              0.2222222222222222,
              "#7201a8"
             ],
             [
              0.3333333333333333,
              "#9c179e"
             ],
             [
              0.4444444444444444,
              "#bd3786"
             ],
             [
              0.5555555555555556,
              "#d8576b"
             ],
             [
              0.6666666666666666,
              "#ed7953"
             ],
             [
              0.7777777777777778,
              "#fb9f3a"
             ],
             [
              0.8888888888888888,
              "#fdca26"
             ],
             [
              1,
              "#f0f921"
             ]
            ],
            "type": "heatmapgl"
           }
          ],
          "histogram": [
           {
            "marker": {
             "pattern": {
              "fillmode": "overlay",
              "size": 10,
              "solidity": 0.2
             }
            },
            "type": "histogram"
           }
          ],
          "histogram2d": [
           {
            "colorbar": {
             "outlinewidth": 0,
             "ticks": ""
            },
            "colorscale": [
             [
              0,
              "#0d0887"
             ],
             [
              0.1111111111111111,
              "#46039f"
             ],
             [
              0.2222222222222222,
              "#7201a8"
             ],
             [
              0.3333333333333333,
              "#9c179e"
             ],
             [
              0.4444444444444444,
              "#bd3786"
             ],
             [
              0.5555555555555556,
              "#d8576b"
             ],
             [
              0.6666666666666666,
              "#ed7953"
             ],
             [
              0.7777777777777778,
              "#fb9f3a"
             ],
             [
              0.8888888888888888,
              "#fdca26"
             ],
             [
              1,
              "#f0f921"
             ]
            ],
            "type": "histogram2d"
           }
          ],
          "histogram2dcontour": [
           {
            "colorbar": {
             "outlinewidth": 0,
             "ticks": ""
            },
            "colorscale": [
             [
              0,
              "#0d0887"
             ],
             [
              0.1111111111111111,
              "#46039f"
             ],
             [
              0.2222222222222222,
              "#7201a8"
             ],
             [
              0.3333333333333333,
              "#9c179e"
             ],
             [
              0.4444444444444444,
              "#bd3786"
             ],
             [
              0.5555555555555556,
              "#d8576b"
             ],
             [
              0.6666666666666666,
              "#ed7953"
             ],
             [
              0.7777777777777778,
              "#fb9f3a"
             ],
             [
              0.8888888888888888,
              "#fdca26"
             ],
             [
              1,
              "#f0f921"
             ]
            ],
            "type": "histogram2dcontour"
           }
          ],
          "mesh3d": [
           {
            "colorbar": {
             "outlinewidth": 0,
             "ticks": ""
            },
            "type": "mesh3d"
           }
          ],
          "parcoords": [
           {
            "line": {
             "colorbar": {
              "outlinewidth": 0,
              "ticks": ""
             }
            },
            "type": "parcoords"
           }
          ],
          "pie": [
           {
            "automargin": true,
            "type": "pie"
           }
          ],
          "scatter": [
           {
            "fillpattern": {
             "fillmode": "overlay",
             "size": 10,
             "solidity": 0.2
            },
            "type": "scatter"
           }
          ],
          "scatter3d": [
           {
            "line": {
             "colorbar": {
              "outlinewidth": 0,
              "ticks": ""
             }
            },
            "marker": {
             "colorbar": {
              "outlinewidth": 0,
              "ticks": ""
             }
            },
            "type": "scatter3d"
           }
          ],
          "scattercarpet": [
           {
            "marker": {
             "colorbar": {
              "outlinewidth": 0,
              "ticks": ""
             }
            },
            "type": "scattercarpet"
           }
          ],
          "scattergeo": [
           {
            "marker": {
             "colorbar": {
              "outlinewidth": 0,
              "ticks": ""
             }
            },
            "type": "scattergeo"
           }
          ],
          "scattergl": [
           {
            "marker": {
             "colorbar": {
              "outlinewidth": 0,
              "ticks": ""
             }
            },
            "type": "scattergl"
           }
          ],
          "scattermapbox": [
           {
            "marker": {
             "colorbar": {
              "outlinewidth": 0,
              "ticks": ""
             }
            },
            "type": "scattermapbox"
           }
          ],
          "scatterpolar": [
           {
            "marker": {
             "colorbar": {
              "outlinewidth": 0,
              "ticks": ""
             }
            },
            "type": "scatterpolar"
           }
          ],
          "scatterpolargl": [
           {
            "marker": {
             "colorbar": {
              "outlinewidth": 0,
              "ticks": ""
             }
            },
            "type": "scatterpolargl"
           }
          ],
          "scatterternary": [
           {
            "marker": {
             "colorbar": {
              "outlinewidth": 0,
              "ticks": ""
             }
            },
            "type": "scatterternary"
           }
          ],
          "surface": [
           {
            "colorbar": {
             "outlinewidth": 0,
             "ticks": ""
            },
            "colorscale": [
             [
              0,
              "#0d0887"
             ],
             [
              0.1111111111111111,
              "#46039f"
             ],
             [
              0.2222222222222222,
              "#7201a8"
             ],
             [
              0.3333333333333333,
              "#9c179e"
             ],
             [
              0.4444444444444444,
              "#bd3786"
             ],
             [
              0.5555555555555556,
              "#d8576b"
             ],
             [
              0.6666666666666666,
              "#ed7953"
             ],
             [
              0.7777777777777778,
              "#fb9f3a"
             ],
             [
              0.8888888888888888,
              "#fdca26"
             ],
             [
              1,
              "#f0f921"
             ]
            ],
            "type": "surface"
           }
          ],
          "table": [
           {
            "cells": {
             "fill": {
              "color": "#EBF0F8"
             },
             "line": {
              "color": "white"
             }
            },
            "header": {
             "fill": {
              "color": "#C8D4E3"
             },
             "line": {
              "color": "white"
             }
            },
            "type": "table"
           }
          ]
         },
         "layout": {
          "annotationdefaults": {
           "arrowcolor": "#2a3f5f",
           "arrowhead": 0,
           "arrowwidth": 1
          },
          "autotypenumbers": "strict",
          "coloraxis": {
           "colorbar": {
            "outlinewidth": 0,
            "ticks": ""
           }
          },
          "colorscale": {
           "diverging": [
            [
             0,
             "#8e0152"
            ],
            [
             0.1,
             "#c51b7d"
            ],
            [
             0.2,
             "#de77ae"
            ],
            [
             0.3,
             "#f1b6da"
            ],
            [
             0.4,
             "#fde0ef"
            ],
            [
             0.5,
             "#f7f7f7"
            ],
            [
             0.6,
             "#e6f5d0"
            ],
            [
             0.7,
             "#b8e186"
            ],
            [
             0.8,
             "#7fbc41"
            ],
            [
             0.9,
             "#4d9221"
            ],
            [
             1,
             "#276419"
            ]
           ],
           "sequential": [
            [
             0,
             "#0d0887"
            ],
            [
             0.1111111111111111,
             "#46039f"
            ],
            [
             0.2222222222222222,
             "#7201a8"
            ],
            [
             0.3333333333333333,
             "#9c179e"
            ],
            [
             0.4444444444444444,
             "#bd3786"
            ],
            [
             0.5555555555555556,
             "#d8576b"
            ],
            [
             0.6666666666666666,
             "#ed7953"
            ],
            [
             0.7777777777777778,
             "#fb9f3a"
            ],
            [
             0.8888888888888888,
             "#fdca26"
            ],
            [
             1,
             "#f0f921"
            ]
           ],
           "sequentialminus": [
            [
             0,
             "#0d0887"
            ],
            [
             0.1111111111111111,
             "#46039f"
            ],
            [
             0.2222222222222222,
             "#7201a8"
            ],
            [
             0.3333333333333333,
             "#9c179e"
            ],
            [
             0.4444444444444444,
             "#bd3786"
            ],
            [
             0.5555555555555556,
             "#d8576b"
            ],
            [
             0.6666666666666666,
             "#ed7953"
            ],
            [
             0.7777777777777778,
             "#fb9f3a"
            ],
            [
             0.8888888888888888,
             "#fdca26"
            ],
            [
             1,
             "#f0f921"
            ]
           ]
          },
          "colorway": [
           "#636efa",
           "#EF553B",
           "#00cc96",
           "#ab63fa",
           "#FFA15A",
           "#19d3f3",
           "#FF6692",
           "#B6E880",
           "#FF97FF",
           "#FECB52"
          ],
          "font": {
           "color": "#2a3f5f"
          },
          "geo": {
           "bgcolor": "white",
           "lakecolor": "white",
           "landcolor": "#E5ECF6",
           "showlakes": true,
           "showland": true,
           "subunitcolor": "white"
          },
          "hoverlabel": {
           "align": "left"
          },
          "hovermode": "closest",
          "mapbox": {
           "style": "light"
          },
          "paper_bgcolor": "white",
          "plot_bgcolor": "#E5ECF6",
          "polar": {
           "angularaxis": {
            "gridcolor": "white",
            "linecolor": "white",
            "ticks": ""
           },
           "bgcolor": "#E5ECF6",
           "radialaxis": {
            "gridcolor": "white",
            "linecolor": "white",
            "ticks": ""
           }
          },
          "scene": {
           "xaxis": {
            "backgroundcolor": "#E5ECF6",
            "gridcolor": "white",
            "gridwidth": 2,
            "linecolor": "white",
            "showbackground": true,
            "ticks": "",
            "zerolinecolor": "white"
           },
           "yaxis": {
            "backgroundcolor": "#E5ECF6",
            "gridcolor": "white",
            "gridwidth": 2,
            "linecolor": "white",
            "showbackground": true,
            "ticks": "",
            "zerolinecolor": "white"
           },
           "zaxis": {
            "backgroundcolor": "#E5ECF6",
            "gridcolor": "white",
            "gridwidth": 2,
            "linecolor": "white",
            "showbackground": true,
            "ticks": "",
            "zerolinecolor": "white"
           }
          },
          "shapedefaults": {
           "line": {
            "color": "#2a3f5f"
           }
          },
          "ternary": {
           "aaxis": {
            "gridcolor": "white",
            "linecolor": "white",
            "ticks": ""
           },
           "baxis": {
            "gridcolor": "white",
            "linecolor": "white",
            "ticks": ""
           },
           "bgcolor": "#E5ECF6",
           "caxis": {
            "gridcolor": "white",
            "linecolor": "white",
            "ticks": ""
           }
          },
          "title": {
           "x": 0.05
          },
          "xaxis": {
           "automargin": true,
           "gridcolor": "white",
           "linecolor": "white",
           "ticks": "",
           "title": {
            "standoff": 15
           },
           "zerolinecolor": "white",
           "zerolinewidth": 2
          },
          "yaxis": {
           "automargin": true,
           "gridcolor": "white",
           "linecolor": "white",
           "ticks": "",
           "title": {
            "standoff": 15
           },
           "zerolinecolor": "white",
           "zerolinewidth": 2
          }
         }
        },
        "title": {
         "text": "pool_size_over_time"
        },
        "xaxis": {
         "anchor": "y",
         "domain": [
          0,
          1
         ],
         "title": {
          "text": "x"
         }
        },
        "yaxis": {
         "anchor": "x",
         "domain": [
          0,
          1
         ],
         "title": {
          "text": "y"
         }
        }
       }
      }
     },
     "metadata": {},
     "output_type": "display_data"
    }
   ],
   "source": [
    "fig = px.line(x=date_list, y=forecast_xgb, title='pool_size_over_time')\n",
    "fig.show()"
   ]
  },
  {
   "cell_type": "markdown",
   "id": "13725a7c",
   "metadata": {},
   "source": [
    "#### Comment on pool size result of modelling\n",
    "\n",
    "Let's comment some points:\n",
    "* ElasticNet really bad, possible due to the lack of data and no machine learning tools to learn.\n",
    "* Despite it add some noise at the beginning, XGBoost regression takes in account the deeper steps of losing RCP's at august and december, so it learned well."
   ]
  }
 ],
 "metadata": {
  "kernelspec": {
   "display_name": "Python 3",
   "language": "python",
   "name": "python3"
  },
  "language_info": {
   "codemirror_mode": {
    "name": "ipython",
    "version": 3
   },
   "file_extension": ".py",
   "mimetype": "text/x-python",
   "name": "python",
   "nbconvert_exporter": "python",
   "pygments_lexer": "ipython3",
   "version": "3.12.1"
  }
 },
 "nbformat": 4,
 "nbformat_minor": 5
}
